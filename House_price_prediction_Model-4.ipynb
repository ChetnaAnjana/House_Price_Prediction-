{
 "cells": [
  {
   "cell_type": "code",
   "execution_count": 1,
   "id": "125b27d9",
   "metadata": {},
   "outputs": [],
   "source": [
    "import pandas as pd\n",
    "import numpy as np\n",
    "import matplotlib.pyplot as plt\n",
    "import seaborn as sns"
   ]
  },
  {
   "cell_type": "code",
   "execution_count": 2,
   "id": "4adadda7",
   "metadata": {},
   "outputs": [
    {
     "data": {
      "text/html": [
       "<div>\n",
       "<style scoped>\n",
       "    .dataframe tbody tr th:only-of-type {\n",
       "        vertical-align: middle;\n",
       "    }\n",
       "\n",
       "    .dataframe tbody tr th {\n",
       "        vertical-align: top;\n",
       "    }\n",
       "\n",
       "    .dataframe thead th {\n",
       "        text-align: right;\n",
       "    }\n",
       "</style>\n",
       "<table border=\"1\" class=\"dataframe\">\n",
       "  <thead>\n",
       "    <tr style=\"text-align: right;\">\n",
       "      <th></th>\n",
       "      <th>POSTED_BY</th>\n",
       "      <th>UNDER_CONSTRUCTION</th>\n",
       "      <th>RERA</th>\n",
       "      <th>BHK_NO.</th>\n",
       "      <th>BHK_OR_RK</th>\n",
       "      <th>SQUARE_FT</th>\n",
       "      <th>READY_TO_MOVE</th>\n",
       "      <th>RESALE</th>\n",
       "      <th>ADDRESS</th>\n",
       "      <th>LONGITUDE</th>\n",
       "      <th>LATITUDE</th>\n",
       "      <th>TARGET(PRICE_IN_LACS)</th>\n",
       "    </tr>\n",
       "  </thead>\n",
       "  <tbody>\n",
       "    <tr>\n",
       "      <th>0</th>\n",
       "      <td>Owner</td>\n",
       "      <td>0</td>\n",
       "      <td>0</td>\n",
       "      <td>2</td>\n",
       "      <td>BHK</td>\n",
       "      <td>1300.236407</td>\n",
       "      <td>1</td>\n",
       "      <td>1</td>\n",
       "      <td>Ksfc Layout,Bangalore</td>\n",
       "      <td>12.969910</td>\n",
       "      <td>77.597960</td>\n",
       "      <td>55.0</td>\n",
       "    </tr>\n",
       "    <tr>\n",
       "      <th>1</th>\n",
       "      <td>Dealer</td>\n",
       "      <td>0</td>\n",
       "      <td>0</td>\n",
       "      <td>2</td>\n",
       "      <td>BHK</td>\n",
       "      <td>1275.000000</td>\n",
       "      <td>1</td>\n",
       "      <td>1</td>\n",
       "      <td>Vishweshwara Nagar,Mysore</td>\n",
       "      <td>12.274538</td>\n",
       "      <td>76.644605</td>\n",
       "      <td>51.0</td>\n",
       "    </tr>\n",
       "    <tr>\n",
       "      <th>2</th>\n",
       "      <td>Owner</td>\n",
       "      <td>0</td>\n",
       "      <td>0</td>\n",
       "      <td>2</td>\n",
       "      <td>BHK</td>\n",
       "      <td>933.159722</td>\n",
       "      <td>1</td>\n",
       "      <td>1</td>\n",
       "      <td>Jigani,Bangalore</td>\n",
       "      <td>12.778033</td>\n",
       "      <td>77.632191</td>\n",
       "      <td>43.0</td>\n",
       "    </tr>\n",
       "    <tr>\n",
       "      <th>3</th>\n",
       "      <td>Owner</td>\n",
       "      <td>0</td>\n",
       "      <td>1</td>\n",
       "      <td>2</td>\n",
       "      <td>BHK</td>\n",
       "      <td>929.921143</td>\n",
       "      <td>1</td>\n",
       "      <td>1</td>\n",
       "      <td>Sector-1 Vaishali,Ghaziabad</td>\n",
       "      <td>28.642300</td>\n",
       "      <td>77.344500</td>\n",
       "      <td>62.5</td>\n",
       "    </tr>\n",
       "    <tr>\n",
       "      <th>4</th>\n",
       "      <td>Dealer</td>\n",
       "      <td>1</td>\n",
       "      <td>0</td>\n",
       "      <td>2</td>\n",
       "      <td>BHK</td>\n",
       "      <td>999.009247</td>\n",
       "      <td>0</td>\n",
       "      <td>1</td>\n",
       "      <td>New Town,Kolkata</td>\n",
       "      <td>22.592200</td>\n",
       "      <td>88.484911</td>\n",
       "      <td>60.5</td>\n",
       "    </tr>\n",
       "  </tbody>\n",
       "</table>\n",
       "</div>"
      ],
      "text/plain": [
       "  POSTED_BY  UNDER_CONSTRUCTION  RERA  BHK_NO. BHK_OR_RK    SQUARE_FT  \\\n",
       "0     Owner                   0     0        2       BHK  1300.236407   \n",
       "1    Dealer                   0     0        2       BHK  1275.000000   \n",
       "2     Owner                   0     0        2       BHK   933.159722   \n",
       "3     Owner                   0     1        2       BHK   929.921143   \n",
       "4    Dealer                   1     0        2       BHK   999.009247   \n",
       "\n",
       "   READY_TO_MOVE  RESALE                      ADDRESS  LONGITUDE   LATITUDE  \\\n",
       "0              1       1        Ksfc Layout,Bangalore  12.969910  77.597960   \n",
       "1              1       1    Vishweshwara Nagar,Mysore  12.274538  76.644605   \n",
       "2              1       1             Jigani,Bangalore  12.778033  77.632191   \n",
       "3              1       1  Sector-1 Vaishali,Ghaziabad  28.642300  77.344500   \n",
       "4              0       1             New Town,Kolkata  22.592200  88.484911   \n",
       "\n",
       "   TARGET(PRICE_IN_LACS)  \n",
       "0                   55.0  \n",
       "1                   51.0  \n",
       "2                   43.0  \n",
       "3                   62.5  \n",
       "4                   60.5  "
      ]
     },
     "execution_count": 2,
     "metadata": {},
     "output_type": "execute_result"
    }
   ],
   "source": [
    "df = pd.read_csv('house_dataset.csv')\n",
    "df.head()"
   ]
  },
  {
   "cell_type": "markdown",
   "id": "9403b45e",
   "metadata": {},
   "source": [
    "<h2> Data Preprocessing"
   ]
  },
  {
   "cell_type": "code",
   "execution_count": 3,
   "id": "f2c6c9a3",
   "metadata": {},
   "outputs": [
    {
     "data": {
      "text/html": [
       "<div>\n",
       "<style scoped>\n",
       "    .dataframe tbody tr th:only-of-type {\n",
       "        vertical-align: middle;\n",
       "    }\n",
       "\n",
       "    .dataframe tbody tr th {\n",
       "        vertical-align: top;\n",
       "    }\n",
       "\n",
       "    .dataframe thead th {\n",
       "        text-align: right;\n",
       "    }\n",
       "</style>\n",
       "<table border=\"1\" class=\"dataframe\">\n",
       "  <thead>\n",
       "    <tr style=\"text-align: right;\">\n",
       "      <th></th>\n",
       "      <th>posted_by</th>\n",
       "      <th>under_construction</th>\n",
       "      <th>rera</th>\n",
       "      <th>bhk_no.</th>\n",
       "      <th>bhk_or_rk</th>\n",
       "      <th>square_ft</th>\n",
       "      <th>ready_to_move</th>\n",
       "      <th>resale</th>\n",
       "      <th>address</th>\n",
       "      <th>longitude</th>\n",
       "      <th>latitude</th>\n",
       "      <th>target(price_in_lacs)</th>\n",
       "    </tr>\n",
       "  </thead>\n",
       "  <tbody>\n",
       "    <tr>\n",
       "      <th>0</th>\n",
       "      <td>Owner</td>\n",
       "      <td>0</td>\n",
       "      <td>0</td>\n",
       "      <td>2</td>\n",
       "      <td>BHK</td>\n",
       "      <td>1300.236407</td>\n",
       "      <td>1</td>\n",
       "      <td>1</td>\n",
       "      <td>Ksfc Layout,Bangalore</td>\n",
       "      <td>12.969910</td>\n",
       "      <td>77.597960</td>\n",
       "      <td>55.0</td>\n",
       "    </tr>\n",
       "    <tr>\n",
       "      <th>1</th>\n",
       "      <td>Dealer</td>\n",
       "      <td>0</td>\n",
       "      <td>0</td>\n",
       "      <td>2</td>\n",
       "      <td>BHK</td>\n",
       "      <td>1275.000000</td>\n",
       "      <td>1</td>\n",
       "      <td>1</td>\n",
       "      <td>Vishweshwara Nagar,Mysore</td>\n",
       "      <td>12.274538</td>\n",
       "      <td>76.644605</td>\n",
       "      <td>51.0</td>\n",
       "    </tr>\n",
       "  </tbody>\n",
       "</table>\n",
       "</div>"
      ],
      "text/plain": [
       "  posted_by  under_construction  rera  bhk_no. bhk_or_rk    square_ft  \\\n",
       "0     Owner                   0     0        2       BHK  1300.236407   \n",
       "1    Dealer                   0     0        2       BHK  1275.000000   \n",
       "\n",
       "   ready_to_move  resale                    address  longitude   latitude  \\\n",
       "0              1       1      Ksfc Layout,Bangalore  12.969910  77.597960   \n",
       "1              1       1  Vishweshwara Nagar,Mysore  12.274538  76.644605   \n",
       "\n",
       "   target(price_in_lacs)  \n",
       "0                   55.0  \n",
       "1                   51.0  "
      ]
     },
     "execution_count": 3,
     "metadata": {},
     "output_type": "execute_result"
    }
   ],
   "source": [
    "# converting the column name from upper case to lower case\n",
    "cols = []\n",
    "for i in df.columns:\n",
    "    i = i.lower()\n",
    "    cols.append(i)\n",
    "df.columns = cols\n",
    "df.head(2)"
   ]
  },
  {
   "cell_type": "code",
   "execution_count": 4,
   "id": "c1162da3",
   "metadata": {},
   "outputs": [
    {
     "data": {
      "text/plain": [
       "['posted_by',\n",
       " 'under_construction',\n",
       " 'rera',\n",
       " 'bhk_no.',\n",
       " 'bhk_or_rk',\n",
       " 'square_ft',\n",
       " 'ready_to_move',\n",
       " 'resale',\n",
       " 'address',\n",
       " 'longitude',\n",
       " 'latitude',\n",
       " 'target(price_in_lacs)']"
      ]
     },
     "execution_count": 4,
     "metadata": {},
     "output_type": "execute_result"
    }
   ],
   "source": [
    "cols"
   ]
  },
  {
   "cell_type": "markdown",
   "id": "9e8abf4f",
   "metadata": {},
   "source": [
    "<h3>Check the missing value"
   ]
  },
  {
   "cell_type": "code",
   "execution_count": 5,
   "id": "5ad4055e",
   "metadata": {},
   "outputs": [
    {
     "data": {
      "text/plain": [
       "posted_by                0\n",
       "under_construction       0\n",
       "rera                     0\n",
       "bhk_no.                  0\n",
       "bhk_or_rk                0\n",
       "square_ft                0\n",
       "ready_to_move            0\n",
       "resale                   0\n",
       "address                  0\n",
       "longitude                0\n",
       "latitude                 0\n",
       "target(price_in_lacs)    0\n",
       "dtype: int64"
      ]
     },
     "execution_count": 5,
     "metadata": {},
     "output_type": "execute_result"
    }
   ],
   "source": [
    "# Check for missing values\n",
    "df.columns[df.isnull().any()]\n",
    "\n",
    "df.isnull().sum()\n",
    "# no missing values"
   ]
  },
  {
   "cell_type": "code",
   "execution_count": 6,
   "id": "4fba5284",
   "metadata": {},
   "outputs": [
    {
     "data": {
      "text/html": [
       "<div>\n",
       "<style scoped>\n",
       "    .dataframe tbody tr th:only-of-type {\n",
       "        vertical-align: middle;\n",
       "    }\n",
       "\n",
       "    .dataframe tbody tr th {\n",
       "        vertical-align: top;\n",
       "    }\n",
       "\n",
       "    .dataframe thead th {\n",
       "        text-align: right;\n",
       "    }\n",
       "</style>\n",
       "<table border=\"1\" class=\"dataframe\">\n",
       "  <thead>\n",
       "    <tr style=\"text-align: right;\">\n",
       "      <th></th>\n",
       "      <th>posted_by</th>\n",
       "      <th>under_construction</th>\n",
       "      <th>rera</th>\n",
       "      <th>bhk_no.</th>\n",
       "      <th>bhk_or_rk</th>\n",
       "      <th>square_ft</th>\n",
       "      <th>ready_to_move</th>\n",
       "      <th>resale</th>\n",
       "      <th>address</th>\n",
       "      <th>longitude</th>\n",
       "      <th>latitude</th>\n",
       "      <th>target(price_in_lacs)</th>\n",
       "      <th>city</th>\n",
       "      <th>area</th>\n",
       "    </tr>\n",
       "  </thead>\n",
       "  <tbody>\n",
       "    <tr>\n",
       "      <th>0</th>\n",
       "      <td>Owner</td>\n",
       "      <td>0</td>\n",
       "      <td>0</td>\n",
       "      <td>2</td>\n",
       "      <td>BHK</td>\n",
       "      <td>1300.236407</td>\n",
       "      <td>1</td>\n",
       "      <td>1</td>\n",
       "      <td>Ksfc Layout,Bangalore</td>\n",
       "      <td>12.969910</td>\n",
       "      <td>77.597960</td>\n",
       "      <td>55.0</td>\n",
       "      <td>Bangalore</td>\n",
       "      <td>Ksfc Layout</td>\n",
       "    </tr>\n",
       "    <tr>\n",
       "      <th>1</th>\n",
       "      <td>Dealer</td>\n",
       "      <td>0</td>\n",
       "      <td>0</td>\n",
       "      <td>2</td>\n",
       "      <td>BHK</td>\n",
       "      <td>1275.000000</td>\n",
       "      <td>1</td>\n",
       "      <td>1</td>\n",
       "      <td>Vishweshwara Nagar,Mysore</td>\n",
       "      <td>12.274538</td>\n",
       "      <td>76.644605</td>\n",
       "      <td>51.0</td>\n",
       "      <td>Mysore</td>\n",
       "      <td>Vishweshwara Nagar</td>\n",
       "    </tr>\n",
       "  </tbody>\n",
       "</table>\n",
       "</div>"
      ],
      "text/plain": [
       "  posted_by  under_construction  rera  bhk_no. bhk_or_rk    square_ft  \\\n",
       "0     Owner                   0     0        2       BHK  1300.236407   \n",
       "1    Dealer                   0     0        2       BHK  1275.000000   \n",
       "\n",
       "   ready_to_move  resale                    address  longitude   latitude  \\\n",
       "0              1       1      Ksfc Layout,Bangalore  12.969910  77.597960   \n",
       "1              1       1  Vishweshwara Nagar,Mysore  12.274538  76.644605   \n",
       "\n",
       "   target(price_in_lacs)       city                area  \n",
       "0                   55.0  Bangalore         Ksfc Layout  \n",
       "1                   51.0     Mysore  Vishweshwara Nagar  "
      ]
     },
     "execution_count": 6,
     "metadata": {},
     "output_type": "execute_result"
    }
   ],
   "source": [
    "# First we should extract the city as its own field\n",
    "df['city'] = df['address'].str.split(',',expand=True).iloc[:,1]\n",
    "df['area'] = df['address'].str.split(',',expand=True).iloc[:,0]\n",
    "df.head(2)"
   ]
  },
  {
   "cell_type": "code",
   "execution_count": 7,
   "id": "0d039b05",
   "metadata": {},
   "outputs": [
    {
     "data": {
      "text/html": [
       "<div>\n",
       "<style scoped>\n",
       "    .dataframe tbody tr th:only-of-type {\n",
       "        vertical-align: middle;\n",
       "    }\n",
       "\n",
       "    .dataframe tbody tr th {\n",
       "        vertical-align: top;\n",
       "    }\n",
       "\n",
       "    .dataframe thead th {\n",
       "        text-align: right;\n",
       "    }\n",
       "</style>\n",
       "<table border=\"1\" class=\"dataframe\">\n",
       "  <thead>\n",
       "    <tr style=\"text-align: right;\">\n",
       "      <th></th>\n",
       "      <th>posted_by</th>\n",
       "      <th>under_construction</th>\n",
       "      <th>rera</th>\n",
       "      <th>bhk_no.</th>\n",
       "      <th>bhk_or_rk</th>\n",
       "      <th>square_ft</th>\n",
       "      <th>ready_to_move</th>\n",
       "      <th>resale</th>\n",
       "      <th>address</th>\n",
       "      <th>longitude</th>\n",
       "      <th>latitude</th>\n",
       "      <th>price_in_lacs</th>\n",
       "      <th>city</th>\n",
       "      <th>area</th>\n",
       "    </tr>\n",
       "  </thead>\n",
       "  <tbody>\n",
       "    <tr>\n",
       "      <th>0</th>\n",
       "      <td>Owner</td>\n",
       "      <td>0</td>\n",
       "      <td>0</td>\n",
       "      <td>2</td>\n",
       "      <td>BHK</td>\n",
       "      <td>1300.236407</td>\n",
       "      <td>1</td>\n",
       "      <td>1</td>\n",
       "      <td>Ksfc Layout,Bangalore</td>\n",
       "      <td>12.969910</td>\n",
       "      <td>77.597960</td>\n",
       "      <td>55.0</td>\n",
       "      <td>Bangalore</td>\n",
       "      <td>Ksfc Layout</td>\n",
       "    </tr>\n",
       "    <tr>\n",
       "      <th>1</th>\n",
       "      <td>Dealer</td>\n",
       "      <td>0</td>\n",
       "      <td>0</td>\n",
       "      <td>2</td>\n",
       "      <td>BHK</td>\n",
       "      <td>1275.000000</td>\n",
       "      <td>1</td>\n",
       "      <td>1</td>\n",
       "      <td>Vishweshwara Nagar,Mysore</td>\n",
       "      <td>12.274538</td>\n",
       "      <td>76.644605</td>\n",
       "      <td>51.0</td>\n",
       "      <td>Mysore</td>\n",
       "      <td>Vishweshwara Nagar</td>\n",
       "    </tr>\n",
       "  </tbody>\n",
       "</table>\n",
       "</div>"
      ],
      "text/plain": [
       "  posted_by  under_construction  rera  bhk_no. bhk_or_rk    square_ft  \\\n",
       "0     Owner                   0     0        2       BHK  1300.236407   \n",
       "1    Dealer                   0     0        2       BHK  1275.000000   \n",
       "\n",
       "   ready_to_move  resale                    address  longitude   latitude  \\\n",
       "0              1       1      Ksfc Layout,Bangalore  12.969910  77.597960   \n",
       "1              1       1  Vishweshwara Nagar,Mysore  12.274538  76.644605   \n",
       "\n",
       "   price_in_lacs       city                area  \n",
       "0           55.0  Bangalore         Ksfc Layout  \n",
       "1           51.0     Mysore  Vishweshwara Nagar  "
      ]
     },
     "execution_count": 7,
     "metadata": {},
     "output_type": "execute_result"
    }
   ],
   "source": [
    "df = df.rename(columns={\"target(price_in_lacs)\": \"price_in_lacs\"})\n",
    "df.head(2)"
   ]
  },
  {
   "cell_type": "code",
   "execution_count": 8,
   "id": "9558384a",
   "metadata": {},
   "outputs": [
    {
     "data": {
      "text/plain": [
       "count    2.945100e+04\n",
       "mean     1.980217e+04\n",
       "std      1.901335e+06\n",
       "min      3.000000e+00\n",
       "25%      9.000211e+02\n",
       "50%      1.175057e+03\n",
       "75%      1.550688e+03\n",
       "max      2.545455e+08\n",
       "Name: square_ft, dtype: float64"
      ]
     },
     "execution_count": 8,
     "metadata": {},
     "output_type": "execute_result"
    }
   ],
   "source": [
    "df.square_ft.describe()"
   ]
  },
  {
   "cell_type": "code",
   "execution_count": 9,
   "id": "49b1ae39",
   "metadata": {},
   "outputs": [
    {
     "data": {
      "text/plain": [
       "count    29451.000000\n",
       "mean        21.300255\n",
       "std          6.205306\n",
       "min        -37.713008\n",
       "25%         18.452663\n",
       "50%         20.750000\n",
       "75%         26.900926\n",
       "max         59.912884\n",
       "Name: longitude, dtype: float64"
      ]
     },
     "execution_count": 9,
     "metadata": {},
     "output_type": "execute_result"
    }
   ],
   "source": [
    "df.longitude.describe()"
   ]
  },
  {
   "cell_type": "code",
   "execution_count": 10,
   "id": "6da03f8e",
   "metadata": {},
   "outputs": [
    {
     "data": {
      "text/plain": [
       "count    29451.000000\n",
       "mean        76.837695\n",
       "std         10.557747\n",
       "min       -121.761248\n",
       "25%         73.798100\n",
       "50%         77.324137\n",
       "75%         77.828740\n",
       "max        152.962676\n",
       "Name: latitude, dtype: float64"
      ]
     },
     "execution_count": 10,
     "metadata": {},
     "output_type": "execute_result"
    }
   ],
   "source": [
    "df.latitude.describe()"
   ]
  },
  {
   "cell_type": "code",
   "execution_count": 11,
   "id": "a61a79bc",
   "metadata": {},
   "outputs": [
    {
     "data": {
      "text/plain": [
       "array(['Owner', 'Dealer', 'Builder'], dtype=object)"
      ]
     },
     "execution_count": 11,
     "metadata": {},
     "output_type": "execute_result"
    }
   ],
   "source": [
    "df['posted_by'].unique()"
   ]
  },
  {
   "cell_type": "code",
   "execution_count": 12,
   "id": "2ef1faac",
   "metadata": {},
   "outputs": [
    {
     "data": {
      "text/plain": [
       "array(['BHK', 'RK'], dtype=object)"
      ]
     },
     "execution_count": 12,
     "metadata": {},
     "output_type": "execute_result"
    }
   ],
   "source": [
    "df['bhk_or_rk'].unique()"
   ]
  },
  {
   "cell_type": "code",
   "execution_count": 13,
   "id": "2e33e3f3",
   "metadata": {},
   "outputs": [
    {
     "data": {
      "text/plain": [
       "(29451, 14)"
      ]
     },
     "execution_count": 13,
     "metadata": {},
     "output_type": "execute_result"
    }
   ],
   "source": [
    "df.shape"
   ]
  },
  {
   "cell_type": "code",
   "execution_count": 14,
   "id": "27f41145",
   "metadata": {},
   "outputs": [
    {
     "data": {
      "text/html": [
       "<div>\n",
       "<style scoped>\n",
       "    .dataframe tbody tr th:only-of-type {\n",
       "        vertical-align: middle;\n",
       "    }\n",
       "\n",
       "    .dataframe tbody tr th {\n",
       "        vertical-align: top;\n",
       "    }\n",
       "\n",
       "    .dataframe thead th {\n",
       "        text-align: right;\n",
       "    }\n",
       "</style>\n",
       "<table border=\"1\" class=\"dataframe\">\n",
       "  <thead>\n",
       "    <tr style=\"text-align: right;\">\n",
       "      <th></th>\n",
       "      <th>posted_by</th>\n",
       "      <th>under_construction</th>\n",
       "      <th>rera</th>\n",
       "      <th>bhk_no.</th>\n",
       "      <th>bhk_or_rk</th>\n",
       "      <th>square_ft</th>\n",
       "      <th>ready_to_move</th>\n",
       "      <th>resale</th>\n",
       "      <th>address</th>\n",
       "      <th>longitude</th>\n",
       "      <th>latitude</th>\n",
       "      <th>price_in_lacs</th>\n",
       "      <th>city</th>\n",
       "      <th>area</th>\n",
       "    </tr>\n",
       "  </thead>\n",
       "  <tbody>\n",
       "    <tr>\n",
       "      <th>0</th>\n",
       "      <td>Owner</td>\n",
       "      <td>0</td>\n",
       "      <td>0</td>\n",
       "      <td>2</td>\n",
       "      <td>BHK</td>\n",
       "      <td>1300.236407</td>\n",
       "      <td>1</td>\n",
       "      <td>1</td>\n",
       "      <td>Ksfc Layout,Bangalore</td>\n",
       "      <td>12.969910</td>\n",
       "      <td>77.597960</td>\n",
       "      <td>55.0</td>\n",
       "      <td>Bangalore</td>\n",
       "      <td>Ksfc Layout</td>\n",
       "    </tr>\n",
       "    <tr>\n",
       "      <th>1</th>\n",
       "      <td>Dealer</td>\n",
       "      <td>0</td>\n",
       "      <td>0</td>\n",
       "      <td>2</td>\n",
       "      <td>BHK</td>\n",
       "      <td>1275.000000</td>\n",
       "      <td>1</td>\n",
       "      <td>1</td>\n",
       "      <td>Vishweshwara Nagar,Mysore</td>\n",
       "      <td>12.274538</td>\n",
       "      <td>76.644605</td>\n",
       "      <td>51.0</td>\n",
       "      <td>Mysore</td>\n",
       "      <td>Vishweshwara Nagar</td>\n",
       "    </tr>\n",
       "  </tbody>\n",
       "</table>\n",
       "</div>"
      ],
      "text/plain": [
       "  posted_by  under_construction  rera  bhk_no. bhk_or_rk    square_ft  \\\n",
       "0     Owner                   0     0        2       BHK  1300.236407   \n",
       "1    Dealer                   0     0        2       BHK  1275.000000   \n",
       "\n",
       "   ready_to_move  resale                    address  longitude   latitude  \\\n",
       "0              1       1      Ksfc Layout,Bangalore  12.969910  77.597960   \n",
       "1              1       1  Vishweshwara Nagar,Mysore  12.274538  76.644605   \n",
       "\n",
       "   price_in_lacs       city                area  \n",
       "0           55.0  Bangalore         Ksfc Layout  \n",
       "1           51.0     Mysore  Vishweshwara Nagar  "
      ]
     },
     "execution_count": 14,
     "metadata": {},
     "output_type": "execute_result"
    }
   ],
   "source": [
    "# removing an outlier. keeping only the rows where the \"square_ft\" values fall within the 1st and 99th percentiles of the column's distribution.\n",
    "q_low = df[\"square_ft\"].quantile(0.01)\n",
    "q_hi  = df[\"square_ft\"].quantile(0.99)\n",
    "\n",
    "df = df[(df[\"square_ft\"] < q_hi) & (df[\"square_ft\"] > q_low)]\n",
    "df.head(2)"
   ]
  },
  {
   "cell_type": "code",
   "execution_count": 15,
   "id": "3cd3bc2f",
   "metadata": {},
   "outputs": [],
   "source": [
    "inr_usd_rate = 80"
   ]
  },
  {
   "cell_type": "code",
   "execution_count": 16,
   "id": "997121cd",
   "metadata": {},
   "outputs": [
    {
     "data": {
      "text/html": [
       "<div>\n",
       "<style scoped>\n",
       "    .dataframe tbody tr th:only-of-type {\n",
       "        vertical-align: middle;\n",
       "    }\n",
       "\n",
       "    .dataframe tbody tr th {\n",
       "        vertical-align: top;\n",
       "    }\n",
       "\n",
       "    .dataframe thead th {\n",
       "        text-align: right;\n",
       "    }\n",
       "</style>\n",
       "<table border=\"1\" class=\"dataframe\">\n",
       "  <thead>\n",
       "    <tr style=\"text-align: right;\">\n",
       "      <th></th>\n",
       "      <th>posted_by</th>\n",
       "      <th>under_construction</th>\n",
       "      <th>rera</th>\n",
       "      <th>bhk_no.</th>\n",
       "      <th>bhk_or_rk</th>\n",
       "      <th>square_ft</th>\n",
       "      <th>ready_to_move</th>\n",
       "      <th>resale</th>\n",
       "      <th>address</th>\n",
       "      <th>longitude</th>\n",
       "      <th>latitude</th>\n",
       "      <th>price_in_lacs</th>\n",
       "      <th>city</th>\n",
       "      <th>area</th>\n",
       "      <th>price_in_usd</th>\n",
       "    </tr>\n",
       "  </thead>\n",
       "  <tbody>\n",
       "    <tr>\n",
       "      <th>0</th>\n",
       "      <td>Owner</td>\n",
       "      <td>0</td>\n",
       "      <td>0</td>\n",
       "      <td>2</td>\n",
       "      <td>BHK</td>\n",
       "      <td>1300.236407</td>\n",
       "      <td>1</td>\n",
       "      <td>1</td>\n",
       "      <td>Ksfc Layout,Bangalore</td>\n",
       "      <td>12.969910</td>\n",
       "      <td>77.597960</td>\n",
       "      <td>55.0</td>\n",
       "      <td>Bangalore</td>\n",
       "      <td>Ksfc Layout</td>\n",
       "      <td>68750.0</td>\n",
       "    </tr>\n",
       "    <tr>\n",
       "      <th>1</th>\n",
       "      <td>Dealer</td>\n",
       "      <td>0</td>\n",
       "      <td>0</td>\n",
       "      <td>2</td>\n",
       "      <td>BHK</td>\n",
       "      <td>1275.000000</td>\n",
       "      <td>1</td>\n",
       "      <td>1</td>\n",
       "      <td>Vishweshwara Nagar,Mysore</td>\n",
       "      <td>12.274538</td>\n",
       "      <td>76.644605</td>\n",
       "      <td>51.0</td>\n",
       "      <td>Mysore</td>\n",
       "      <td>Vishweshwara Nagar</td>\n",
       "      <td>63750.0</td>\n",
       "    </tr>\n",
       "  </tbody>\n",
       "</table>\n",
       "</div>"
      ],
      "text/plain": [
       "  posted_by  under_construction  rera  bhk_no. bhk_or_rk    square_ft  \\\n",
       "0     Owner                   0     0        2       BHK  1300.236407   \n",
       "1    Dealer                   0     0        2       BHK  1275.000000   \n",
       "\n",
       "   ready_to_move  resale                    address  longitude   latitude  \\\n",
       "0              1       1      Ksfc Layout,Bangalore  12.969910  77.597960   \n",
       "1              1       1  Vishweshwara Nagar,Mysore  12.274538  76.644605   \n",
       "\n",
       "   price_in_lacs       city                area  price_in_usd  \n",
       "0           55.0  Bangalore         Ksfc Layout       68750.0  \n",
       "1           51.0     Mysore  Vishweshwara Nagar       63750.0  "
      ]
     },
     "execution_count": 16,
     "metadata": {},
     "output_type": "execute_result"
    }
   ],
   "source": [
    "df[\"price_in_usd\"] = (df[\"price_in_lacs\"]*100000)/inr_usd_rate\n",
    "df.head(2)"
   ]
  },
  {
   "cell_type": "code",
   "execution_count": 17,
   "id": "4351a24c",
   "metadata": {},
   "outputs": [
    {
     "data": {
      "text/plain": [
       "count    2.885900e+04\n",
       "mean     1.240913e+05\n",
       "std      1.896763e+05\n",
       "min      3.125000e+02\n",
       "25%      4.750000e+04\n",
       "50%      7.750000e+04\n",
       "75%      1.250000e+05\n",
       "max      6.875000e+06\n",
       "Name: price_in_usd, dtype: float64"
      ]
     },
     "execution_count": 17,
     "metadata": {},
     "output_type": "execute_result"
    }
   ],
   "source": [
    "df.price_in_usd.describe()"
   ]
  },
  {
   "cell_type": "markdown",
   "id": "d9abf4ea",
   "metadata": {},
   "source": [
    "<h2> Data Visualization"
   ]
  },
  {
   "cell_type": "code",
   "execution_count": 18,
   "id": "4ddbf133",
   "metadata": {},
   "outputs": [
    {
     "data": {
      "text/html": [
       "<div>\n",
       "<style scoped>\n",
       "    .dataframe tbody tr th:only-of-type {\n",
       "        vertical-align: middle;\n",
       "    }\n",
       "\n",
       "    .dataframe tbody tr th {\n",
       "        vertical-align: top;\n",
       "    }\n",
       "\n",
       "    .dataframe thead th {\n",
       "        text-align: right;\n",
       "    }\n",
       "</style>\n",
       "<table border=\"1\" class=\"dataframe\">\n",
       "  <thead>\n",
       "    <tr style=\"text-align: right;\">\n",
       "      <th></th>\n",
       "      <th>posted_by</th>\n",
       "      <th>under_construction</th>\n",
       "      <th>rera</th>\n",
       "      <th>bhk_no.</th>\n",
       "      <th>bhk_or_rk</th>\n",
       "      <th>square_ft</th>\n",
       "      <th>ready_to_move</th>\n",
       "      <th>resale</th>\n",
       "      <th>address</th>\n",
       "      <th>longitude</th>\n",
       "      <th>latitude</th>\n",
       "      <th>price_in_lacs</th>\n",
       "      <th>city</th>\n",
       "      <th>area</th>\n",
       "      <th>price_in_usd</th>\n",
       "    </tr>\n",
       "  </thead>\n",
       "  <tbody>\n",
       "    <tr>\n",
       "      <th>0</th>\n",
       "      <td>Owner</td>\n",
       "      <td>0</td>\n",
       "      <td>0</td>\n",
       "      <td>2</td>\n",
       "      <td>BHK</td>\n",
       "      <td>1300.236407</td>\n",
       "      <td>1</td>\n",
       "      <td>1</td>\n",
       "      <td>Ksfc Layout,Bangalore</td>\n",
       "      <td>12.969910</td>\n",
       "      <td>77.597960</td>\n",
       "      <td>55.0</td>\n",
       "      <td>Bangalore</td>\n",
       "      <td>Ksfc Layout</td>\n",
       "      <td>68750.0</td>\n",
       "    </tr>\n",
       "    <tr>\n",
       "      <th>1</th>\n",
       "      <td>Dealer</td>\n",
       "      <td>0</td>\n",
       "      <td>0</td>\n",
       "      <td>2</td>\n",
       "      <td>BHK</td>\n",
       "      <td>1275.000000</td>\n",
       "      <td>1</td>\n",
       "      <td>1</td>\n",
       "      <td>Vishweshwara Nagar,Mysore</td>\n",
       "      <td>12.274538</td>\n",
       "      <td>76.644605</td>\n",
       "      <td>51.0</td>\n",
       "      <td>Mysore</td>\n",
       "      <td>Vishweshwara Nagar</td>\n",
       "      <td>63750.0</td>\n",
       "    </tr>\n",
       "  </tbody>\n",
       "</table>\n",
       "</div>"
      ],
      "text/plain": [
       "  posted_by  under_construction  rera  bhk_no. bhk_or_rk    square_ft  \\\n",
       "0     Owner                   0     0        2       BHK  1300.236407   \n",
       "1    Dealer                   0     0        2       BHK  1275.000000   \n",
       "\n",
       "   ready_to_move  resale                    address  longitude   latitude  \\\n",
       "0              1       1      Ksfc Layout,Bangalore  12.969910  77.597960   \n",
       "1              1       1  Vishweshwara Nagar,Mysore  12.274538  76.644605   \n",
       "\n",
       "   price_in_lacs       city                area  price_in_usd  \n",
       "0           55.0  Bangalore         Ksfc Layout       68750.0  \n",
       "1           51.0     Mysore  Vishweshwara Nagar       63750.0  "
      ]
     },
     "execution_count": 18,
     "metadata": {},
     "output_type": "execute_result"
    }
   ],
   "source": [
    "df_viz = df # creating new data frame df_viz and assigning it same value as df\n",
    "df_viz.head(2)"
   ]
  },
  {
   "cell_type": "code",
   "execution_count": 19,
   "id": "9777d71a",
   "metadata": {},
   "outputs": [
    {
     "data": {
      "text/html": [
       "<div>\n",
       "<style scoped>\n",
       "    .dataframe tbody tr th:only-of-type {\n",
       "        vertical-align: middle;\n",
       "    }\n",
       "\n",
       "    .dataframe tbody tr th {\n",
       "        vertical-align: top;\n",
       "    }\n",
       "\n",
       "    .dataframe thead th {\n",
       "        text-align: right;\n",
       "    }\n",
       "</style>\n",
       "<table border=\"1\" class=\"dataframe\">\n",
       "  <thead>\n",
       "    <tr style=\"text-align: right;\">\n",
       "      <th></th>\n",
       "      <th>posted_by</th>\n",
       "      <th>under_construction</th>\n",
       "      <th>rera</th>\n",
       "      <th>bhk_no.</th>\n",
       "      <th>bhk_or_rk</th>\n",
       "      <th>square_ft</th>\n",
       "      <th>ready_to_move</th>\n",
       "      <th>resale</th>\n",
       "      <th>address</th>\n",
       "      <th>longitude</th>\n",
       "      <th>latitude</th>\n",
       "      <th>price_in_lacs</th>\n",
       "      <th>city</th>\n",
       "      <th>area</th>\n",
       "      <th>price_in_usd</th>\n",
       "    </tr>\n",
       "  </thead>\n",
       "  <tbody>\n",
       "    <tr>\n",
       "      <th>0</th>\n",
       "      <td>Owner</td>\n",
       "      <td>0</td>\n",
       "      <td>0</td>\n",
       "      <td>2</td>\n",
       "      <td>BHK</td>\n",
       "      <td>1300.236407</td>\n",
       "      <td>Move-In Ready</td>\n",
       "      <td>For Resale</td>\n",
       "      <td>Ksfc Layout,Bangalore</td>\n",
       "      <td>12.969910</td>\n",
       "      <td>77.597960</td>\n",
       "      <td>55.0</td>\n",
       "      <td>Bangalore</td>\n",
       "      <td>Ksfc Layout</td>\n",
       "      <td>68750.0</td>\n",
       "    </tr>\n",
       "    <tr>\n",
       "      <th>1</th>\n",
       "      <td>Dealer</td>\n",
       "      <td>0</td>\n",
       "      <td>0</td>\n",
       "      <td>2</td>\n",
       "      <td>BHK</td>\n",
       "      <td>1275.000000</td>\n",
       "      <td>Move-In Ready</td>\n",
       "      <td>For Resale</td>\n",
       "      <td>Vishweshwara Nagar,Mysore</td>\n",
       "      <td>12.274538</td>\n",
       "      <td>76.644605</td>\n",
       "      <td>51.0</td>\n",
       "      <td>Mysore</td>\n",
       "      <td>Vishweshwara Nagar</td>\n",
       "      <td>63750.0</td>\n",
       "    </tr>\n",
       "  </tbody>\n",
       "</table>\n",
       "</div>"
      ],
      "text/plain": [
       "  posted_by  under_construction  rera  bhk_no. bhk_or_rk    square_ft  \\\n",
       "0     Owner                   0     0        2       BHK  1300.236407   \n",
       "1    Dealer                   0     0        2       BHK  1275.000000   \n",
       "\n",
       "   ready_to_move      resale                    address  longitude   latitude  \\\n",
       "0  Move-In Ready  For Resale      Ksfc Layout,Bangalore  12.969910  77.597960   \n",
       "1  Move-In Ready  For Resale  Vishweshwara Nagar,Mysore  12.274538  76.644605   \n",
       "\n",
       "   price_in_lacs       city                area  price_in_usd  \n",
       "0           55.0  Bangalore         Ksfc Layout       68750.0  \n",
       "1           51.0     Mysore  Vishweshwara Nagar       63750.0  "
      ]
     },
     "execution_count": 19,
     "metadata": {},
     "output_type": "execute_result"
    }
   ],
   "source": [
    "df_viz[\"resale\"] = df_viz[\"resale\"].replace(to_replace = 0, value = \"Not for Resale\")\n",
    "df_viz[\"resale\"] = df_viz[\"resale\"].replace(to_replace = 1, value = \"For Resale\")\n",
    "df_viz[\"ready_to_move\"] = df_viz[\"ready_to_move\"].replace(to_replace = 1, value = \"Move-In Ready\")\n",
    "df_viz[\"ready_to_move\"] = df_viz[\"ready_to_move\"].replace(to_replace = 0, value = \"Unfinished\")\n",
    "\n",
    "df_viz.head(2)"
   ]
  },
  {
   "cell_type": "code",
   "execution_count": 20,
   "id": "cce9abee",
   "metadata": {},
   "outputs": [
    {
     "data": {
      "image/png": "[encoded data removed]",
      "text/plain": [
       "<Figure size 640x480 with 1 Axes>"
      ]
     },
     "metadata": {},
     "output_type": "display_data"
    }
   ],
   "source": [
    "# Comparison of the proportion of homes ready for move-in in relation to total homes\n",
    "\n",
    "\n",
    "ready_df = df_viz.groupby(\"ready_to_move\")[\"posted_by\"].count()\n",
    "\n",
    "ready_df.plot(kind = \"bar\")\n",
    "\n",
    "plt.title(\"Comparison of Unfinished Homes vs Move-in Ready properties\")\n",
    "plt.ylabel(\"Number of Properties\")\n",
    "plt.show()"
   ]
  },
  {
   "cell_type": "code",
   "execution_count": 21,
   "id": "0a35921f",
   "metadata": {},
   "outputs": [
    {
     "data": {
      "image/png": "[encoded data removed]",
      "text/plain": [
       "<Figure size 640x480 with 1 Axes>"
      ]
     },
     "metadata": {},
     "output_type": "display_data"
    }
   ],
   "source": [
    "# Comparison of median price of finished vs unfinished homes\n",
    "\n",
    "df_viz.groupby(\"ready_to_move\")[\"price_in_usd\"].median().plot(kind = \"bar\")\n",
    "\n",
    "plt.title(\"Comparison of median Home Price for Finished vs Unifinished Properties\")\n",
    "plt.ylabel(\"Median Home Price(USD)\")\n",
    "plt.show()\n",
    "\n",
    "#Surprisingly, unfinished homes tend to be valued more than move-in ready properties"
   ]
  },
  {
   "cell_type": "code",
   "execution_count": 22,
   "id": "af30b55b",
   "metadata": {},
   "outputs": [
    {
     "data": {
      "image/png": "[encoded data removed]",
      "text/plain": [
       "<Figure size 640x480 with 1 Axes>"
      ]
     },
     "metadata": {},
     "output_type": "display_data"
    }
   ],
   "source": [
    "df_viz.groupby(\"resale\")[\"posted_by\"].count().plot(kind = \"bar\")\n",
    "\n",
    "plt.title(\"Number of New vs Used Homes in the Market\")\n",
    "plt.ylabel(\"Number of Properties\")\n",
    "plt.show()"
   ]
  },
  {
   "cell_type": "code",
   "execution_count": 23,
   "id": "b7a95aed",
   "metadata": {},
   "outputs": [
    {
     "data": {
      "image/png": "[encoded data removed]",
      "text/plain": [
       "<Figure size 640x480 with 1 Axes>"
      ]
     },
     "metadata": {},
     "output_type": "display_data"
    }
   ],
   "source": [
    "#Comparison of Average price in New vs Used Homes\n",
    "df_viz.groupby(\"resale\")[\"price_in_usd\"].mean().plot(kind = \"bar\")\n",
    "\n",
    "plt.title(\"Mean Price of New vs Used Homes\")\n",
    "plt.ylabel(\"Average Price (USD)\")\n",
    "plt.show()\n",
    "\n",
    "# As expected, the price of newly built homes far exceeds the average price of homes for resale"
   ]
  },
  {
   "cell_type": "code",
   "execution_count": 24,
   "id": "3036e589",
   "metadata": {},
   "outputs": [],
   "source": [
    "# Now lets make a table of number of homes under construction by city\n",
    "tmp = df_viz.groupby(['city']).count()\n",
    "tmp = tmp.iloc[:, 1].to_frame()\n",
    "#tmp.head(2)"
   ]
  },
  {
   "cell_type": "code",
   "execution_count": 25,
   "id": "8429d1fe",
   "metadata": {},
   "outputs": [],
   "source": [
    "# Next lets get the top 5 values\n",
    "tmp = tmp.sort_values('under_construction', ascending=False)\n",
    "top5_tmp = tmp.iloc[0:5,:].sort_values('under_construction')"
   ]
  },
  {
   "cell_type": "code",
   "execution_count": 26,
   "id": "23dab8db",
   "metadata": {},
   "outputs": [
    {
     "data": {
      "image/png": "[encoded data removed]",
      "text/plain": [
       "<Figure size 1000x600 with 1 Axes>"
      ]
     },
     "metadata": {},
     "output_type": "display_data"
    }
   ],
   "source": [
    "# Create a bar chart showing the top 5 cities with homes under construction\n",
    "top5_tmp.plot(kind='barh', \n",
    "              color= 'skyblue', \n",
    "              edgecolor='seagreen', \n",
    "              legend=None, \n",
    "              figsize=(10, 6))\n",
    "\n",
    "#Set descriptions:\n",
    "plt.title(\"Total Homes Under Construction in top 5 cities\")\n",
    "plt.xlabel('Number of Homes Under Construction')\n",
    "plt.ylabel('City')\n",
    "\n",
    "\n",
    "plt.show()"
   ]
  },
  {
   "cell_type": "code",
   "execution_count": 27,
   "id": "569bc245",
   "metadata": {},
   "outputs": [],
   "source": [
    "# Will we find that these cities have on average, the highest priced homes?\n",
    "cities = df_viz.groupby('city')['price_in_usd'].mean().sort_values(ascending=False)[0:5]"
   ]
  },
  {
   "cell_type": "code",
   "execution_count": 28,
   "id": "fe011581",
   "metadata": {},
   "outputs": [
    {
     "data": {
      "image/png": "[encoded data removed]",
      "text/plain": [
       "<Figure size 1000x600 with 1 Axes>"
      ]
     },
     "metadata": {},
     "output_type": "display_data"
    }
   ],
   "source": [
    "cities.plot(kind='barh', \n",
    "              color= 'skyblue', \n",
    "              edgecolor='seagreen', \n",
    "              legend=None, \n",
    "              figsize=(10, 6))\n",
    "\n",
    "#Set descriptions:\n",
    "plt.title(\"Top 5 Most Expensive Cities by Average\")\n",
    "plt.xlabel('Average Cost per House(in USD)')\n",
    "plt.ylabel('City')\n",
    "\n",
    "\n",
    "plt.show()"
   ]
  },
  {
   "cell_type": "code",
   "execution_count": 29,
   "id": "73d35643",
   "metadata": {
    "scrolled": true
   },
   "outputs": [
    {
     "data": {
      "text/html": [
       "<div>\n",
       "<style scoped>\n",
       "    .dataframe tbody tr th:only-of-type {\n",
       "        vertical-align: middle;\n",
       "    }\n",
       "\n",
       "    .dataframe tbody tr th {\n",
       "        vertical-align: top;\n",
       "    }\n",
       "\n",
       "    .dataframe thead th {\n",
       "        text-align: right;\n",
       "    }\n",
       "</style>\n",
       "<table border=\"1\" class=\"dataframe\">\n",
       "  <thead>\n",
       "    <tr style=\"text-align: right;\">\n",
       "      <th></th>\n",
       "      <th>posted_by</th>\n",
       "      <th>under_construction</th>\n",
       "      <th>rera</th>\n",
       "      <th>bhk_no.</th>\n",
       "      <th>bhk_or_rk</th>\n",
       "      <th>square_ft</th>\n",
       "      <th>ready_to_move</th>\n",
       "      <th>resale</th>\n",
       "      <th>address</th>\n",
       "      <th>longitude</th>\n",
       "      <th>latitude</th>\n",
       "      <th>price_in_lacs</th>\n",
       "      <th>city</th>\n",
       "      <th>area</th>\n",
       "      <th>price_in_usd</th>\n",
       "    </tr>\n",
       "  </thead>\n",
       "  <tbody>\n",
       "    <tr>\n",
       "      <th>0</th>\n",
       "      <td>Owner</td>\n",
       "      <td>0</td>\n",
       "      <td>0</td>\n",
       "      <td>2</td>\n",
       "      <td>BHK</td>\n",
       "      <td>1300.236407</td>\n",
       "      <td>Move-In Ready</td>\n",
       "      <td>For Resale</td>\n",
       "      <td>Ksfc Layout,Bangalore</td>\n",
       "      <td>12.969910</td>\n",
       "      <td>77.597960</td>\n",
       "      <td>55.0</td>\n",
       "      <td>Bangalore</td>\n",
       "      <td>Ksfc Layout</td>\n",
       "      <td>68750.0</td>\n",
       "    </tr>\n",
       "    <tr>\n",
       "      <th>1</th>\n",
       "      <td>Dealer</td>\n",
       "      <td>0</td>\n",
       "      <td>0</td>\n",
       "      <td>2</td>\n",
       "      <td>BHK</td>\n",
       "      <td>1275.000000</td>\n",
       "      <td>Move-In Ready</td>\n",
       "      <td>For Resale</td>\n",
       "      <td>Vishweshwara Nagar,Mysore</td>\n",
       "      <td>12.274538</td>\n",
       "      <td>76.644605</td>\n",
       "      <td>51.0</td>\n",
       "      <td>Mysore</td>\n",
       "      <td>Vishweshwara Nagar</td>\n",
       "      <td>63750.0</td>\n",
       "    </tr>\n",
       "  </tbody>\n",
       "</table>\n",
       "</div>"
      ],
      "text/plain": [
       "  posted_by  under_construction  rera  bhk_no. bhk_or_rk    square_ft  \\\n",
       "0     Owner                   0     0        2       BHK  1300.236407   \n",
       "1    Dealer                   0     0        2       BHK  1275.000000   \n",
       "\n",
       "   ready_to_move      resale                    address  longitude   latitude  \\\n",
       "0  Move-In Ready  For Resale      Ksfc Layout,Bangalore  12.969910  77.597960   \n",
       "1  Move-In Ready  For Resale  Vishweshwara Nagar,Mysore  12.274538  76.644605   \n",
       "\n",
       "   price_in_lacs       city                area  price_in_usd  \n",
       "0           55.0  Bangalore         Ksfc Layout       68750.0  \n",
       "1           51.0     Mysore  Vishweshwara Nagar       63750.0  "
      ]
     },
     "execution_count": 29,
     "metadata": {},
     "output_type": "execute_result"
    }
   ],
   "source": [
    "# Lets remove those outliers for a more informational plot\n",
    "df_viz = df_viz.loc[df_viz['price_in_usd']>1000,] #only consider houses whose price > 1000 and bedrooms less than 10\n",
    "df_viz = df_viz.loc[df_viz['bhk_no.']<10,]\n",
    "df_viz.head(2)"
   ]
  },
  {
   "cell_type": "code",
   "execution_count": 30,
   "id": "7504d7f0",
   "metadata": {},
   "outputs": [
    {
     "data": {
      "image/png": "[encoded data removed]",
      "text/plain": [
       "<Figure size 640x480 with 1 Axes>"
      ]
     },
     "metadata": {},
     "output_type": "display_data"
    }
   ],
   "source": [
    "plt.scatter(df_viz['bhk_no.'], df_viz['price_in_usd'])\n",
    "plt.rcParams['figure.figsize'] = (10,6)\n",
    "plt.show()"
   ]
  },
  {
   "cell_type": "markdown",
   "id": "5b582584",
   "metadata": {},
   "source": [
    "<h3> Intesting! So more bedrooms don't necessarily signify a higher price."
   ]
  },
  {
   "cell_type": "markdown",
   "id": "d7928337",
   "metadata": {},
   "source": []
  },
  {
   "cell_type": "markdown",
   "id": "a2fd6ea9",
   "metadata": {},
   "source": [
    "<h2> Data Modeling"
   ]
  },
  {
   "cell_type": "markdown",
   "id": "c4d79b3c",
   "metadata": {},
   "source": [
    "<h3> Linear Regression"
   ]
  },
  {
   "cell_type": "code",
   "execution_count": 31,
   "id": "3d2ba8fc",
   "metadata": {},
   "outputs": [],
   "source": [
    "from sklearn.linear_model import LinearRegression"
   ]
  },
  {
   "cell_type": "code",
   "execution_count": 32,
   "id": "400852ad",
   "metadata": {},
   "outputs": [
    {
     "data": {
      "text/html": [
       "<div>\n",
       "<style scoped>\n",
       "    .dataframe tbody tr th:only-of-type {\n",
       "        vertical-align: middle;\n",
       "    }\n",
       "\n",
       "    .dataframe tbody tr th {\n",
       "        vertical-align: top;\n",
       "    }\n",
       "\n",
       "    .dataframe thead th {\n",
       "        text-align: right;\n",
       "    }\n",
       "</style>\n",
       "<table border=\"1\" class=\"dataframe\">\n",
       "  <thead>\n",
       "    <tr style=\"text-align: right;\">\n",
       "      <th></th>\n",
       "      <th>posted_by</th>\n",
       "      <th>under_construction</th>\n",
       "      <th>rera</th>\n",
       "      <th>bhk_no.</th>\n",
       "      <th>bhk_or_rk</th>\n",
       "      <th>square_ft</th>\n",
       "      <th>ready_to_move</th>\n",
       "      <th>resale</th>\n",
       "      <th>address</th>\n",
       "      <th>longitude</th>\n",
       "      <th>latitude</th>\n",
       "      <th>price_in_lacs</th>\n",
       "      <th>city</th>\n",
       "      <th>area</th>\n",
       "      <th>price_in_usd</th>\n",
       "    </tr>\n",
       "  </thead>\n",
       "  <tbody>\n",
       "    <tr>\n",
       "      <th>0</th>\n",
       "      <td>Owner</td>\n",
       "      <td>0</td>\n",
       "      <td>0</td>\n",
       "      <td>2</td>\n",
       "      <td>BHK</td>\n",
       "      <td>1300.236407</td>\n",
       "      <td>Move-In Ready</td>\n",
       "      <td>For Resale</td>\n",
       "      <td>Ksfc Layout,Bangalore</td>\n",
       "      <td>12.969910</td>\n",
       "      <td>77.597960</td>\n",
       "      <td>55.0</td>\n",
       "      <td>Bangalore</td>\n",
       "      <td>Ksfc Layout</td>\n",
       "      <td>68750.0</td>\n",
       "    </tr>\n",
       "    <tr>\n",
       "      <th>1</th>\n",
       "      <td>Dealer</td>\n",
       "      <td>0</td>\n",
       "      <td>0</td>\n",
       "      <td>2</td>\n",
       "      <td>BHK</td>\n",
       "      <td>1275.000000</td>\n",
       "      <td>Move-In Ready</td>\n",
       "      <td>For Resale</td>\n",
       "      <td>Vishweshwara Nagar,Mysore</td>\n",
       "      <td>12.274538</td>\n",
       "      <td>76.644605</td>\n",
       "      <td>51.0</td>\n",
       "      <td>Mysore</td>\n",
       "      <td>Vishweshwara Nagar</td>\n",
       "      <td>63750.0</td>\n",
       "    </tr>\n",
       "    <tr>\n",
       "      <th>2</th>\n",
       "      <td>Owner</td>\n",
       "      <td>0</td>\n",
       "      <td>0</td>\n",
       "      <td>2</td>\n",
       "      <td>BHK</td>\n",
       "      <td>933.159722</td>\n",
       "      <td>Move-In Ready</td>\n",
       "      <td>For Resale</td>\n",
       "      <td>Jigani,Bangalore</td>\n",
       "      <td>12.778033</td>\n",
       "      <td>77.632191</td>\n",
       "      <td>43.0</td>\n",
       "      <td>Bangalore</td>\n",
       "      <td>Jigani</td>\n",
       "      <td>53750.0</td>\n",
       "    </tr>\n",
       "    <tr>\n",
       "      <th>3</th>\n",
       "      <td>Owner</td>\n",
       "      <td>0</td>\n",
       "      <td>1</td>\n",
       "      <td>2</td>\n",
       "      <td>BHK</td>\n",
       "      <td>929.921143</td>\n",
       "      <td>Move-In Ready</td>\n",
       "      <td>For Resale</td>\n",
       "      <td>Sector-1 Vaishali,Ghaziabad</td>\n",
       "      <td>28.642300</td>\n",
       "      <td>77.344500</td>\n",
       "      <td>62.5</td>\n",
       "      <td>Ghaziabad</td>\n",
       "      <td>Sector-1 Vaishali</td>\n",
       "      <td>78125.0</td>\n",
       "    </tr>\n",
       "    <tr>\n",
       "      <th>4</th>\n",
       "      <td>Dealer</td>\n",
       "      <td>1</td>\n",
       "      <td>0</td>\n",
       "      <td>2</td>\n",
       "      <td>BHK</td>\n",
       "      <td>999.009247</td>\n",
       "      <td>Unfinished</td>\n",
       "      <td>For Resale</td>\n",
       "      <td>New Town,Kolkata</td>\n",
       "      <td>22.592200</td>\n",
       "      <td>88.484911</td>\n",
       "      <td>60.5</td>\n",
       "      <td>Kolkata</td>\n",
       "      <td>New Town</td>\n",
       "      <td>75625.0</td>\n",
       "    </tr>\n",
       "  </tbody>\n",
       "</table>\n",
       "</div>"
      ],
      "text/plain": [
       "  posted_by  under_construction  rera  bhk_no. bhk_or_rk    square_ft  \\\n",
       "0     Owner                   0     0        2       BHK  1300.236407   \n",
       "1    Dealer                   0     0        2       BHK  1275.000000   \n",
       "2     Owner                   0     0        2       BHK   933.159722   \n",
       "3     Owner                   0     1        2       BHK   929.921143   \n",
       "4    Dealer                   1     0        2       BHK   999.009247   \n",
       "\n",
       "   ready_to_move      resale                      address  longitude  \\\n",
       "0  Move-In Ready  For Resale        Ksfc Layout,Bangalore  12.969910   \n",
       "1  Move-In Ready  For Resale    Vishweshwara Nagar,Mysore  12.274538   \n",
       "2  Move-In Ready  For Resale             Jigani,Bangalore  12.778033   \n",
       "3  Move-In Ready  For Resale  Sector-1 Vaishali,Ghaziabad  28.642300   \n",
       "4     Unfinished  For Resale             New Town,Kolkata  22.592200   \n",
       "\n",
       "    latitude  price_in_lacs       city                area  price_in_usd  \n",
       "0  77.597960           55.0  Bangalore         Ksfc Layout       68750.0  \n",
       "1  76.644605           51.0     Mysore  Vishweshwara Nagar       63750.0  \n",
       "2  77.632191           43.0  Bangalore              Jigani       53750.0  \n",
       "3  77.344500           62.5  Ghaziabad   Sector-1 Vaishali       78125.0  \n",
       "4  88.484911           60.5    Kolkata            New Town       75625.0  "
      ]
     },
     "execution_count": 32,
     "metadata": {},
     "output_type": "execute_result"
    }
   ],
   "source": [
    "df.head()"
   ]
  },
  {
   "cell_type": "markdown",
   "id": "d4ad59cc",
   "metadata": {},
   "source": [
    "<h4> Correlation Heatmap\n",
    "    "
   ]
  },
  {
   "cell_type": "markdown",
   "id": "13387c3c",
   "metadata": {},
   "source": [
    "A correlation heatmap is a great way to visually explore relationships between different variables in your dataset. It can help identify patterns, multicollinearity, and potential features for your regression model. The color intensity and the values in the cells indicate the strength and direction of the correlation."
   ]
  },
  {
   "cell_type": "code",
   "execution_count": 33,
   "id": "f711b244",
   "metadata": {
    "scrolled": false
   },
   "outputs": [
    {
     "name": "stderr",
     "output_type": "stream",
     "text": [
      "/var/folders/kd/zltqb14n7v38k8p3g8fgjrhc0000gn/T/ipykernel_13983/1291205441.py:3: FutureWarning: The default value of numeric_only in DataFrame.corr is deprecated. In a future version, it will default to False. Select only valid columns or specify the value of numeric_only to silence this warning.\n",
      "  heatmap = sns.heatmap(df.corr(), vmin=-1, vmax=1, annot=True)\n"
     ]
    },
    {
     "data": {
      "image/png": "[encoded data removed]",
      "text/plain": [
       "<Figure size 1600x600 with 2 Axes>"
      ]
     },
     "metadata": {},
     "output_type": "display_data"
    }
   ],
   "source": [
    "plt.figure(figsize=(16, 6))\n",
    "\n",
    "heatmap = sns.heatmap(df.corr(), vmin=-1, vmax=1, annot=True)\n",
    "\n",
    "heatmap.set_title('Correlation Heatmap', fontdict={'fontsize':12}, pad=12)\n",
    "\n",
    "plt.show()"
   ]
  },
  {
   "cell_type": "markdown",
   "id": "3902b294",
   "metadata": {},
   "source": []
  },
  {
   "cell_type": "code",
   "execution_count": 34,
   "id": "a8985ba9",
   "metadata": {},
   "outputs": [
    {
     "data": {
      "text/html": [
       "<div>\n",
       "<style scoped>\n",
       "    .dataframe tbody tr th:only-of-type {\n",
       "        vertical-align: middle;\n",
       "    }\n",
       "\n",
       "    .dataframe tbody tr th {\n",
       "        vertical-align: top;\n",
       "    }\n",
       "\n",
       "    .dataframe thead th {\n",
       "        text-align: right;\n",
       "    }\n",
       "</style>\n",
       "<table border=\"1\" class=\"dataframe\">\n",
       "  <thead>\n",
       "    <tr style=\"text-align: right;\">\n",
       "      <th></th>\n",
       "      <th>posted_by</th>\n",
       "      <th>under_construction</th>\n",
       "      <th>rera</th>\n",
       "      <th>bhk_no.</th>\n",
       "      <th>square_ft</th>\n",
       "      <th>ready_to_move</th>\n",
       "      <th>resale</th>\n",
       "      <th>longitude</th>\n",
       "      <th>latitude</th>\n",
       "      <th>city</th>\n",
       "      <th>area</th>\n",
       "      <th>price_in_usd</th>\n",
       "    </tr>\n",
       "  </thead>\n",
       "  <tbody>\n",
       "    <tr>\n",
       "      <th>0</th>\n",
       "      <td>Owner</td>\n",
       "      <td>0</td>\n",
       "      <td>0</td>\n",
       "      <td>2</td>\n",
       "      <td>1300.236407</td>\n",
       "      <td>Move-In Ready</td>\n",
       "      <td>For Resale</td>\n",
       "      <td>12.969910</td>\n",
       "      <td>77.597960</td>\n",
       "      <td>Bangalore</td>\n",
       "      <td>Ksfc Layout</td>\n",
       "      <td>68750.0</td>\n",
       "    </tr>\n",
       "    <tr>\n",
       "      <th>1</th>\n",
       "      <td>Dealer</td>\n",
       "      <td>0</td>\n",
       "      <td>0</td>\n",
       "      <td>2</td>\n",
       "      <td>1275.000000</td>\n",
       "      <td>Move-In Ready</td>\n",
       "      <td>For Resale</td>\n",
       "      <td>12.274538</td>\n",
       "      <td>76.644605</td>\n",
       "      <td>Mysore</td>\n",
       "      <td>Vishweshwara Nagar</td>\n",
       "      <td>63750.0</td>\n",
       "    </tr>\n",
       "    <tr>\n",
       "      <th>2</th>\n",
       "      <td>Owner</td>\n",
       "      <td>0</td>\n",
       "      <td>0</td>\n",
       "      <td>2</td>\n",
       "      <td>933.159722</td>\n",
       "      <td>Move-In Ready</td>\n",
       "      <td>For Resale</td>\n",
       "      <td>12.778033</td>\n",
       "      <td>77.632191</td>\n",
       "      <td>Bangalore</td>\n",
       "      <td>Jigani</td>\n",
       "      <td>53750.0</td>\n",
       "    </tr>\n",
       "    <tr>\n",
       "      <th>3</th>\n",
       "      <td>Owner</td>\n",
       "      <td>0</td>\n",
       "      <td>1</td>\n",
       "      <td>2</td>\n",
       "      <td>929.921143</td>\n",
       "      <td>Move-In Ready</td>\n",
       "      <td>For Resale</td>\n",
       "      <td>28.642300</td>\n",
       "      <td>77.344500</td>\n",
       "      <td>Ghaziabad</td>\n",
       "      <td>Sector-1 Vaishali</td>\n",
       "      <td>78125.0</td>\n",
       "    </tr>\n",
       "    <tr>\n",
       "      <th>4</th>\n",
       "      <td>Dealer</td>\n",
       "      <td>1</td>\n",
       "      <td>0</td>\n",
       "      <td>2</td>\n",
       "      <td>999.009247</td>\n",
       "      <td>Unfinished</td>\n",
       "      <td>For Resale</td>\n",
       "      <td>22.592200</td>\n",
       "      <td>88.484911</td>\n",
       "      <td>Kolkata</td>\n",
       "      <td>New Town</td>\n",
       "      <td>75625.0</td>\n",
       "    </tr>\n",
       "  </tbody>\n",
       "</table>\n",
       "</div>"
      ],
      "text/plain": [
       "  posted_by  under_construction  rera  bhk_no.    square_ft  ready_to_move  \\\n",
       "0     Owner                   0     0        2  1300.236407  Move-In Ready   \n",
       "1    Dealer                   0     0        2  1275.000000  Move-In Ready   \n",
       "2     Owner                   0     0        2   933.159722  Move-In Ready   \n",
       "3     Owner                   0     1        2   929.921143  Move-In Ready   \n",
       "4    Dealer                   1     0        2   999.009247     Unfinished   \n",
       "\n",
       "       resale  longitude   latitude       city                area  \\\n",
       "0  For Resale  12.969910  77.597960  Bangalore         Ksfc Layout   \n",
       "1  For Resale  12.274538  76.644605     Mysore  Vishweshwara Nagar   \n",
       "2  For Resale  12.778033  77.632191  Bangalore              Jigani   \n",
       "3  For Resale  28.642300  77.344500  Ghaziabad   Sector-1 Vaishali   \n",
       "4  For Resale  22.592200  88.484911    Kolkata            New Town   \n",
       "\n",
       "   price_in_usd  \n",
       "0       68750.0  \n",
       "1       63750.0  \n",
       "2       53750.0  \n",
       "3       78125.0  \n",
       "4       75625.0  "
      ]
     },
     "execution_count": 34,
     "metadata": {},
     "output_type": "execute_result"
    }
   ],
   "source": [
    "cols= df.columns\n",
    "#print(cols)\n",
    "mdf = df[['posted_by', 'under_construction', 'rera', 'bhk_no.',\n",
    "       'square_ft', 'ready_to_move', 'resale', 'longitude',\n",
    "       'latitude', 'city', 'area', 'price_in_usd']]\n",
    "\n",
    "mdf.head()"
   ]
  },
  {
   "cell_type": "markdown",
   "id": "8c63a662",
   "metadata": {},
   "source": [
    "get dummies for categorical variable"
   ]
  },
  {
   "cell_type": "code",
   "execution_count": 35,
   "id": "f1e28671",
   "metadata": {},
   "outputs": [
    {
     "data": {
      "text/plain": [
       "375.00633460000006"
      ]
     },
     "execution_count": 35,
     "metadata": {},
     "output_type": "execute_result"
    }
   ],
   "source": [
    "df.square_ft.min()"
   ]
  },
  {
   "cell_type": "code",
   "execution_count": 36,
   "id": "cdb859d2",
   "metadata": {},
   "outputs": [],
   "source": [
    "#only consider bedrooms less than 10\n",
    "mdf = mdf.loc[mdf['bhk_no.']<10,]"
   ]
  },
  {
   "cell_type": "code",
   "execution_count": 37,
   "id": "1c20799f",
   "metadata": {},
   "outputs": [],
   "source": [
    "#let's remove some more outliers:\n",
    "\n",
    "q_low = mdf[\"price_in_usd\"].quantile(0.02)\n",
    "q_hi  = mdf[\"price_in_usd\"].quantile(0.98)\n",
    "\n",
    "mdf = mdf[(mdf[\"price_in_usd\"] < q_hi) & (mdf[\"price_in_usd\"] > q_low)]\n"
   ]
  },
  {
   "cell_type": "code",
   "execution_count": 38,
   "id": "40b181ab",
   "metadata": {},
   "outputs": [],
   "source": [
    "#let's remove some more outliers:\n",
    "\n",
    "q_low = mdf[\"square_ft\"].quantile(0.02)\n",
    "q_hi  = mdf[\"square_ft\"].quantile(0.98)\n",
    "\n",
    "mdf = mdf[(mdf[\"square_ft\"] < q_hi) & (mdf[\"square_ft\"] > q_low)]\n"
   ]
  },
  {
   "cell_type": "code",
   "execution_count": 39,
   "id": "e6aafc3d",
   "metadata": {},
   "outputs": [
    {
     "data": {
      "text/html": [
       "<div>\n",
       "<style scoped>\n",
       "    .dataframe tbody tr th:only-of-type {\n",
       "        vertical-align: middle;\n",
       "    }\n",
       "\n",
       "    .dataframe tbody tr th {\n",
       "        vertical-align: top;\n",
       "    }\n",
       "\n",
       "    .dataframe thead th {\n",
       "        text-align: right;\n",
       "    }\n",
       "</style>\n",
       "<table border=\"1\" class=\"dataframe\">\n",
       "  <thead>\n",
       "    <tr style=\"text-align: right;\">\n",
       "      <th></th>\n",
       "      <th>posted_by</th>\n",
       "      <th>under_construction</th>\n",
       "      <th>rera</th>\n",
       "      <th>bhk_no.</th>\n",
       "      <th>square_ft</th>\n",
       "      <th>ready_to_move</th>\n",
       "      <th>resale</th>\n",
       "      <th>longitude</th>\n",
       "      <th>latitude</th>\n",
       "      <th>city</th>\n",
       "      <th>area</th>\n",
       "      <th>price_in_usd</th>\n",
       "    </tr>\n",
       "  </thead>\n",
       "  <tbody>\n",
       "    <tr>\n",
       "      <th>0</th>\n",
       "      <td>1</td>\n",
       "      <td>0</td>\n",
       "      <td>0</td>\n",
       "      <td>2</td>\n",
       "      <td>1300.236407</td>\n",
       "      <td>Move-In Ready</td>\n",
       "      <td>For Resale</td>\n",
       "      <td>12.969910</td>\n",
       "      <td>77.597960</td>\n",
       "      <td>Bangalore</td>\n",
       "      <td>Ksfc Layout</td>\n",
       "      <td>68750.0</td>\n",
       "    </tr>\n",
       "    <tr>\n",
       "      <th>1</th>\n",
       "      <td>0</td>\n",
       "      <td>0</td>\n",
       "      <td>0</td>\n",
       "      <td>2</td>\n",
       "      <td>1275.000000</td>\n",
       "      <td>Move-In Ready</td>\n",
       "      <td>For Resale</td>\n",
       "      <td>12.274538</td>\n",
       "      <td>76.644605</td>\n",
       "      <td>Mysore</td>\n",
       "      <td>Vishweshwara Nagar</td>\n",
       "      <td>63750.0</td>\n",
       "    </tr>\n",
       "  </tbody>\n",
       "</table>\n",
       "</div>"
      ],
      "text/plain": [
       "   posted_by  under_construction  rera  bhk_no.    square_ft  ready_to_move  \\\n",
       "0          1                   0     0        2  1300.236407  Move-In Ready   \n",
       "1          0                   0     0        2  1275.000000  Move-In Ready   \n",
       "\n",
       "       resale  longitude   latitude       city                area  \\\n",
       "0  For Resale  12.969910  77.597960  Bangalore         Ksfc Layout   \n",
       "1  For Resale  12.274538  76.644605     Mysore  Vishweshwara Nagar   \n",
       "\n",
       "   price_in_usd  \n",
       "0       68750.0  \n",
       "1       63750.0  "
      ]
     },
     "execution_count": 39,
     "metadata": {},
     "output_type": "execute_result"
    }
   ],
   "source": [
    "mdf[\"posted_by\"] = mdf[\"posted_by\"].replace(to_replace = \"Builder\", value = 2)\n",
    "mdf[\"posted_by\"] = mdf[\"posted_by\"].replace(to_replace = \"Owner\", value = 1)\n",
    "mdf[\"posted_by\"] = mdf[\"posted_by\"].replace(to_replace = \"Dealer\", value = 0)\n",
    "\n",
    "mdf.head(2)"
   ]
  },
  {
   "cell_type": "code",
   "execution_count": 40,
   "id": "0c3e0177",
   "metadata": {},
   "outputs": [
    {
     "data": {
      "text/plain": [
       "array([1, 0, 2])"
      ]
     },
     "execution_count": 40,
     "metadata": {},
     "output_type": "execute_result"
    }
   ],
   "source": [
    "mdf.posted_by.unique()"
   ]
  },
  {
   "cell_type": "code",
   "execution_count": 41,
   "id": "37f30982",
   "metadata": {},
   "outputs": [
    {
     "data": {
      "text/html": [
       "<div>\n",
       "<style scoped>\n",
       "    .dataframe tbody tr th:only-of-type {\n",
       "        vertical-align: middle;\n",
       "    }\n",
       "\n",
       "    .dataframe tbody tr th {\n",
       "        vertical-align: top;\n",
       "    }\n",
       "\n",
       "    .dataframe thead th {\n",
       "        text-align: right;\n",
       "    }\n",
       "</style>\n",
       "<table border=\"1\" class=\"dataframe\">\n",
       "  <thead>\n",
       "    <tr style=\"text-align: right;\">\n",
       "      <th></th>\n",
       "      <th>posted_by</th>\n",
       "      <th>under_construction</th>\n",
       "      <th>rera</th>\n",
       "      <th>bhk_no.</th>\n",
       "      <th>square_ft</th>\n",
       "      <th>ready_to_move</th>\n",
       "      <th>resale</th>\n",
       "      <th>longitude</th>\n",
       "      <th>latitude</th>\n",
       "      <th>price_in_usd</th>\n",
       "    </tr>\n",
       "  </thead>\n",
       "  <tbody>\n",
       "    <tr>\n",
       "      <th>0</th>\n",
       "      <td>1</td>\n",
       "      <td>0</td>\n",
       "      <td>0</td>\n",
       "      <td>2</td>\n",
       "      <td>1300.236407</td>\n",
       "      <td>Move-In Ready</td>\n",
       "      <td>For Resale</td>\n",
       "      <td>12.969910</td>\n",
       "      <td>77.597960</td>\n",
       "      <td>68750.0</td>\n",
       "    </tr>\n",
       "    <tr>\n",
       "      <th>1</th>\n",
       "      <td>0</td>\n",
       "      <td>0</td>\n",
       "      <td>0</td>\n",
       "      <td>2</td>\n",
       "      <td>1275.000000</td>\n",
       "      <td>Move-In Ready</td>\n",
       "      <td>For Resale</td>\n",
       "      <td>12.274538</td>\n",
       "      <td>76.644605</td>\n",
       "      <td>63750.0</td>\n",
       "    </tr>\n",
       "  </tbody>\n",
       "</table>\n",
       "</div>"
      ],
      "text/plain": [
       "   posted_by  under_construction  rera  bhk_no.    square_ft  ready_to_move  \\\n",
       "0          1                   0     0        2  1300.236407  Move-In Ready   \n",
       "1          0                   0     0        2  1275.000000  Move-In Ready   \n",
       "\n",
       "       resale  longitude   latitude  price_in_usd  \n",
       "0  For Resale  12.969910  77.597960       68750.0  \n",
       "1  For Resale  12.274538  76.644605       63750.0  "
      ]
     },
     "execution_count": 41,
     "metadata": {},
     "output_type": "execute_result"
    }
   ],
   "source": [
    "#consider only numerical features:\n",
    "\n",
    "mdf = mdf[['posted_by', 'under_construction', 'rera', 'bhk_no.',\n",
    "       'square_ft', 'ready_to_move', 'resale', 'longitude',\n",
    "       'latitude', 'price_in_usd']]\n",
    "\n",
    "mdf.head(2)\n"
   ]
  },
  {
   "cell_type": "code",
   "execution_count": 42,
   "id": "6866ea90",
   "metadata": {},
   "outputs": [],
   "source": [
    "Y = mdf[\"price_in_usd\"]\n",
    "X = mdf[['posted_by', 'under_construction', 'rera', 'bhk_no.',\n",
    "       'square_ft', 'longitude',\n",
    "       'latitude']]"
   ]
  },
  {
   "cell_type": "code",
   "execution_count": 43,
   "id": "60a01ca5",
   "metadata": {},
   "outputs": [],
   "source": [
    "from sklearn.model_selection import train_test_split"
   ]
  },
  {
   "cell_type": "code",
   "execution_count": 44,
   "id": "d087d4d8",
   "metadata": {},
   "outputs": [],
   "source": [
    "#The test_size=0.3 parameter specifies that 30% of the data will be used for testing, and the remaining 70% will be used for training. T\n",
    "X_train, X_test, Y_train, Y_test = train_test_split(X,Y, test_size=0.3,random_state=101)"
   ]
  },
  {
   "cell_type": "code",
   "execution_count": 45,
   "id": "124630cb",
   "metadata": {},
   "outputs": [],
   "source": [
    "from sklearn import preprocessing\n",
    "min_max_scaler = preprocessing.MinMaxScaler()\n",
    "# Create an object to transform the data to fit minmax processor\n",
    "X_train_scaled = min_max_scaler.fit_transform(X_train)\n",
    "X_test_scaled = min_max_scaler.transform(X_test)"
   ]
  },
  {
   "cell_type": "code",
   "execution_count": 46,
   "id": "c62a7df9",
   "metadata": {},
   "outputs": [
    {
     "data": {
      "text/plain": [
       "28105    57500.0\n",
       "13632    37500.0\n",
       "Name: price_in_usd, dtype: float64"
      ]
     },
     "execution_count": 46,
     "metadata": {},
     "output_type": "execute_result"
    }
   ],
   "source": [
    "Y_test.head(2)"
   ]
  },
  {
   "cell_type": "code",
   "execution_count": 47,
   "id": "90fcd409",
   "metadata": {},
   "outputs": [
    {
     "data": {
      "text/html": [
       "<style>#sk-container-id-1 {color: black;}#sk-container-id-1 pre{padding: 0;}#sk-container-id-1 div.sk-toggleable {background-color: white;}#sk-container-id-1 label.sk-toggleable__label {cursor: pointer;display: block;width: 100%;margin-bottom: 0;padding: 0.3em;box-sizing: border-box;text-align: center;}#sk-container-id-1 label.sk-toggleable__label-arrow:before {content: \"▸\";float: left;margin-right: 0.25em;color: #696969;}#sk-container-id-1 label.sk-toggleable__label-arrow:hover:before {color: black;}#sk-container-id-1 div.sk-estimator:hover label.sk-toggleable__label-arrow:before {color: black;}#sk-container-id-1 div.sk-toggleable__content {max-height: 0;max-width: 0;overflow: hidden;text-align: left;background-color: #f0f8ff;}#sk-container-id-1 div.sk-toggleable__content pre {margin: 0.2em;color: black;border-radius: 0.25em;background-color: #f0f8ff;}#sk-container-id-1 input.sk-toggleable__control:checked~div.sk-toggleable__content {max-height: 200px;max-width: 100%;overflow: auto;}#sk-container-id-1 input.sk-toggleable__control:checked~label.sk-toggleable__label-arrow:before {content: \"▾\";}#sk-container-id-1 div.sk-estimator input.sk-toggleable__control:checked~label.sk-toggleable__label {background-color: #d4ebff;}#sk-container-id-1 div.sk-label input.sk-toggleable__control:checked~label.sk-toggleable__label {background-color: #d4ebff;}#sk-container-id-1 input.sk-hidden--visually {border: 0;clip: rect(1px 1px 1px 1px);clip: rect(1px, 1px, 1px, 1px);height: 1px;margin: -1px;overflow: hidden;padding: 0;position: absolute;width: 1px;}#sk-container-id-1 div.sk-estimator {font-family: monospace;background-color: #f0f8ff;border: 1px dotted black;border-radius: 0.25em;box-sizing: border-box;margin-bottom: 0.5em;}#sk-container-id-1 div.sk-estimator:hover {background-color: #d4ebff;}#sk-container-id-1 div.sk-parallel-item::after {content: \"\";width: 100%;border-bottom: 1px solid gray;flex-grow: 1;}#sk-container-id-1 div.sk-label:hover label.sk-toggleable__label {background-color: #d4ebff;}#sk-container-id-1 div.sk-serial::before {content: \"\";position: absolute;border-left: 1px solid gray;box-sizing: border-box;top: 0;bottom: 0;left: 50%;z-index: 0;}#sk-container-id-1 div.sk-serial {display: flex;flex-direction: column;align-items: center;background-color: white;padding-right: 0.2em;padding-left: 0.2em;position: relative;}#sk-container-id-1 div.sk-item {position: relative;z-index: 1;}#sk-container-id-1 div.sk-parallel {display: flex;align-items: stretch;justify-content: center;background-color: white;position: relative;}#sk-container-id-1 div.sk-item::before, #sk-container-id-1 div.sk-parallel-item::before {content: \"\";position: absolute;border-left: 1px solid gray;box-sizing: border-box;top: 0;bottom: 0;left: 50%;z-index: -1;}#sk-container-id-1 div.sk-parallel-item {display: flex;flex-direction: column;z-index: 1;position: relative;background-color: white;}#sk-container-id-1 div.sk-parallel-item:first-child::after {align-self: flex-end;width: 50%;}#sk-container-id-1 div.sk-parallel-item:last-child::after {align-self: flex-start;width: 50%;}#sk-container-id-1 div.sk-parallel-item:only-child::after {width: 0;}#sk-container-id-1 div.sk-dashed-wrapped {border: 1px dashed gray;margin: 0 0.4em 0.5em 0.4em;box-sizing: border-box;padding-bottom: 0.4em;background-color: white;}#sk-container-id-1 div.sk-label label {font-family: monospace;font-weight: bold;display: inline-block;line-height: 1.2em;}#sk-container-id-1 div.sk-label-container {text-align: center;}#sk-container-id-1 div.sk-container {/* jupyter's `normalize.less` sets `[hidden] { display: none; }` but bootstrap.min.css set `[hidden] { display: none !important; }` so we also need the `!important` here to be able to override the default hidden behavior on the sphinx rendered scikit-learn.org. See: https://github.com/scikit-learn/scikit-learn/issues/21755 */display: inline-block !important;position: relative;}#sk-container-id-1 div.sk-text-repr-fallback {display: none;}</style><div id=\"sk-container-id-1\" class=\"sk-top-container\"><div class=\"sk-text-repr-fallback\"><pre>LinearRegression(n_jobs=1)</pre><b>In a Jupyter environment, please rerun this cell to show the HTML representation or trust the notebook. <br />On GitHub, the HTML representation is unable to render, please try loading this page with nbviewer.org.</b></div><div class=\"sk-container\" hidden><div class=\"sk-item\"><div class=\"sk-estimator sk-toggleable\"><input class=\"sk-toggleable__control sk-hidden--visually\" id=\"sk-estimator-id-1\" type=\"checkbox\" checked><label for=\"sk-estimator-id-1\" class=\"sk-toggleable__label sk-toggleable__label-arrow\">LinearRegression</label><div class=\"sk-toggleable__content\"><pre>LinearRegression(n_jobs=1)</pre></div></div></div></div></div>"
      ],
      "text/plain": [
       "LinearRegression(n_jobs=1)"
      ]
     },
     "execution_count": 47,
     "metadata": {},
     "output_type": "execute_result"
    }
   ],
   "source": [
    "lm = LinearRegression(copy_X=True, fit_intercept=True, n_jobs=1) \n",
    "\n",
    "lm.fit(X_train_scaled,Y_train)"
   ]
  },
  {
   "cell_type": "code",
   "execution_count": 48,
   "id": "61d27cbe",
   "metadata": {},
   "outputs": [
    {
     "name": "stdout",
     "output_type": "stream",
     "text": [
      "[ -84207.01082727    3792.02331033   15072.96503616   68021.60539634\n",
      "  168252.2448588  -235284.1254298  -290077.50055217]\n"
     ]
    }
   ],
   "source": [
    "print(lm.coef_)"
   ]
  },
  {
   "cell_type": "markdown",
   "id": "d4c7ad01",
   "metadata": {},
   "source": [
    "<h4>Prediction"
   ]
  },
  {
   "cell_type": "code",
   "execution_count": 49,
   "id": "700ea585",
   "metadata": {},
   "outputs": [],
   "source": [
    "prediction = lm.predict(X_test_scaled)"
   ]
  },
  {
   "cell_type": "code",
   "execution_count": 50,
   "id": "2fb4ce0e",
   "metadata": {},
   "outputs": [
    {
     "data": {
      "text/plain": [
       "pandas.core.series.Series"
      ]
     },
     "execution_count": 50,
     "metadata": {},
     "output_type": "execute_result"
    }
   ],
   "source": [
    "type(Y_test)"
   ]
  },
  {
   "cell_type": "code",
   "execution_count": 51,
   "id": "d7da6f99",
   "metadata": {},
   "outputs": [
    {
     "data": {
      "text/plain": [
       "28105     57500.0\n",
       "13632     37500.0\n",
       "8401      49500.0\n",
       "26212     47500.0\n",
       "12291     29375.0\n",
       "           ...   \n",
       "20314     94375.0\n",
       "25271    125000.0\n",
       "3241      33750.0\n",
       "4706     175000.0\n",
       "13103     43750.0\n",
       "Name: price_in_usd, Length: 7976, dtype: float64"
      ]
     },
     "execution_count": 51,
     "metadata": {},
     "output_type": "execute_result"
    }
   ],
   "source": [
    "Y_test"
   ]
  },
  {
   "cell_type": "code",
   "execution_count": 52,
   "id": "0449ddac",
   "metadata": {},
   "outputs": [
    {
     "data": {
      "text/plain": [
       "numpy.ndarray"
      ]
     },
     "execution_count": 52,
     "metadata": {},
     "output_type": "execute_result"
    }
   ],
   "source": [
    "type(prediction)"
   ]
  },
  {
   "cell_type": "code",
   "execution_count": 53,
   "id": "88bfddca",
   "metadata": {},
   "outputs": [
    {
     "data": {
      "text/plain": [
       "array([ 70148.13526148,  70011.06350079, 102705.34556123, ...,\n",
       "        53729.68134082, 148914.98124117,  61988.37254073])"
      ]
     },
     "execution_count": 53,
     "metadata": {},
     "output_type": "execute_result"
    }
   ],
   "source": [
    "prediction"
   ]
  },
  {
   "cell_type": "code",
   "execution_count": 54,
   "id": "7c46e51b",
   "metadata": {},
   "outputs": [
    {
     "data": {
      "text/plain": [
       "0        70148.135261\n",
       "1        70011.063501\n",
       "2       102705.345561\n",
       "3        78452.990496\n",
       "4        79220.424239\n",
       "            ...      \n",
       "7971    113512.331328\n",
       "7972    164347.976268\n",
       "7973     53729.681341\n",
       "7974    148914.981241\n",
       "7975     61988.372541\n",
       "Length: 7976, dtype: float64"
      ]
     },
     "execution_count": 54,
     "metadata": {},
     "output_type": "execute_result"
    }
   ],
   "source": [
    "pred_series = pd.Series(prediction)\n",
    "pred_series"
   ]
  },
  {
   "cell_type": "code",
   "execution_count": 55,
   "id": "ba87e340",
   "metadata": {},
   "outputs": [
    {
     "data": {
      "image/png": "[encoded data removed]",
      "text/plain": [
       "<Figure size 1000x600 with 1 Axes>"
      ]
     },
     "metadata": {},
     "output_type": "display_data"
    }
   ],
   "source": [
    "from  matplotlib import pyplot\n",
    "\n",
    "pyplot.scatter(Y_test, prediction)\n",
    "\n",
    "pyplot.show()"
   ]
  },
  {
   "cell_type": "markdown",
   "id": "b854aa90",
   "metadata": {},
   "source": []
  },
  {
   "cell_type": "code",
   "execution_count": 56,
   "id": "48b9e083",
   "metadata": {},
   "outputs": [
    {
     "data": {
      "text/plain": [
       "102297.47210381144"
      ]
     },
     "execution_count": 56,
     "metadata": {},
     "output_type": "execute_result"
    }
   ],
   "source": [
    "Y_test.mean()"
   ]
  },
  {
   "cell_type": "code",
   "execution_count": 57,
   "id": "e678a170",
   "metadata": {},
   "outputs": [
    {
     "name": "stdout",
     "output_type": "stream",
     "text": [
      "MAE= 46547.89265814528\n",
      "MSE= 4831295484.47\n",
      "RMSE= 69507.52106405464\n"
     ]
    }
   ],
   "source": [
    "from sklearn import metrics\n",
    "print(\"MAE=\", metrics.mean_absolute_error(Y_test,prediction) )\n",
    "print(\"MSE=\", metrics.mean_squared_error(Y_test,prediction))\n",
    "print(\"RMSE=\", np.sqrt(metrics.mean_squared_error(Y_test, prediction)))"
   ]
  },
  {
   "cell_type": "code",
   "execution_count": 58,
   "id": "b7865d22",
   "metadata": {},
   "outputs": [],
   "source": [
    "from sklearn.metrics import r2_score\n",
    "r_squared_lm = r2_score(Y_test, prediction)"
   ]
  },
  {
   "cell_type": "code",
   "execution_count": 59,
   "id": "04e35395",
   "metadata": {},
   "outputs": [
    {
     "name": "stdout",
     "output_type": "stream",
     "text": [
      "R-squared: 30.93%\n"
     ]
    }
   ],
   "source": [
    "print(f'R-squared: {r_squared_lm * 100:.2f}%')"
   ]
  },
  {
   "cell_type": "code",
   "execution_count": 60,
   "id": "0c02493d",
   "metadata": {},
   "outputs": [
    {
     "name": "stdout",
     "output_type": "stream",
     "text": [
      "Mean Squared Error: 2761945048.433647\n",
      "Mean Absolute Error: 27324.167371951604\n",
      "Root Mean Squared Error: 52554.210568075774\n",
      "R-squared: 59.81%\n"
     ]
    }
   ],
   "source": [
    "# Import necessary libraries\n",
    "from sklearn.model_selection import train_test_split\n",
    "from sklearn.tree import DecisionTreeRegressor\n",
    "from sklearn.metrics import mean_squared_error, mean_absolute_error\n",
    "from sklearn.metrics import r2_score\n",
    "import matplotlib.pyplot as plt\n",
    "\n",
    "\n",
    "# Assuming X is your feature matrix and Y is your target variable\n",
    "\n",
    "# Split the data into training and testing sets\n",
    "X_train_dt, X_test_dt, Y_train_dt, Y_test_dt = train_test_split(X, Y, test_size=0.2, random_state=42)\n",
    "\n",
    "# Create a decision tree regressor\n",
    "tree_reg = DecisionTreeRegressor(random_state=42)\n",
    "\n",
    "# Fit the model to the training data\n",
    "tree_reg.fit(X_train_dt, Y_train_dt)\n",
    "\n",
    "# Make predictions on the test set\n",
    "Y_pred_dt = tree_reg.predict(X_test_dt)\n",
    "\n",
    "# Evaluate the model\n",
    "mse = mean_squared_error(Y_test_dt, Y_pred_dt)\n",
    "mae = mean_absolute_error(Y_test_dt, Y_pred_dt)\n",
    "rmse = np.sqrt(mse)\n",
    "r_squared = r2_score(Y_test_dt, Y_pred_dt)\n",
    "print(f'Mean Squared Error: {mse}')\n",
    "print(f'Mean Absolute Error: {mae}')\n",
    "print(f'Root Mean Squared Error: {rmse}')\n",
    "print(f'R-squared: {r_squared * 100:.2f}%')"
   ]
  },
  {
   "cell_type": "code",
   "execution_count": 61,
   "id": "080e51ed",
   "metadata": {},
   "outputs": [
    {
     "name": "stdout",
     "output_type": "stream",
     "text": [
      "Fitting 3 folds for each of 81 candidates, totalling 243 fits\n",
      "Best parameters: {'regressor__max_depth': 20, 'regressor__min_samples_leaf': 1, 'regressor__min_samples_split': 5, 'regressor__n_estimators': 300}\n",
      "Best score (MSE): 0.12921111348290834\n",
      "Random Forest Mean Squared Error: 2405.059240184229\n",
      "Random Forest R^2 Score: 0.765547415583359\n"
     ]
    }
   ],
   "source": [
    "import time\n",
    "import pandas as pd\n",
    "import numpy as np\n",
    "from sklearn.ensemble import RandomForestRegressor\n",
    "from sklearn.model_selection import train_test_split, GridSearchCV\n",
    "from sklearn.metrics import mean_squared_error, r2_score\n",
    "from sklearn.preprocessing import StandardScaler, OneHotEncoder\n",
    "from sklearn.compose import ColumnTransformer\n",
    "from sklearn.pipeline import Pipeline\n",
    "from sklearn.impute import SimpleImputer\n",
    "\n",
    "# Load your data\n",
    "df = pd.read_csv('house_dataset.csv')  # Make sure to use the correct path to your dataset\n",
    "\n",
    "# Handling Outliers in 'SQUARE_FT'\n",
    "Q1 = df['SQUARE_FT'].quantile(0.25)\n",
    "Q3 = df['SQUARE_FT'].quantile(0.75)\n",
    "IQR = Q3 - Q1\n",
    "lower_bound = Q1 - 1.5 * IQR\n",
    "upper_bound = Q3 + 1.5 * IQR\n",
    "df_filtered = df[(df['SQUARE_FT'] >= lower_bound) & (df['SQUARE_FT'] <= upper_bound)]\n",
    "\n",
    "# Make a copy of the filtered data to avoid SettingWithCopyWarning\n",
    "df_filtered = df_filtered.copy()\n",
    "\n",
    "# Transforming the Target Variable\n",
    "df_filtered['TARGET(PRICE_IN_LACS)_LOG'] = np.log1p(df_filtered['TARGET(PRICE_IN_LACS)'])\n",
    "\n",
    "# Extracting More Features from 'ADDRESS'\n",
    "df_filtered['CITY'] = df_filtered['ADDRESS'].apply(lambda x: x.split(',')[-1].strip())\n",
    "\n",
    "# Preparing the data for modeling\n",
    "X = df_filtered.drop(['TARGET(PRICE_IN_LACS)', 'TARGET(PRICE_IN_LACS)_LOG', 'ADDRESS'], axis=1)\n",
    "y = df_filtered['TARGET(PRICE_IN_LACS)_LOG']\n",
    "\n",
    "# Encoding categorical features and splitting the data\n",
    "X = pd.get_dummies(X, drop_first=True)\n",
    "X_train, X_test, y_train, y_test = train_test_split(X, y, test_size=0.2, random_state=42)\n",
    "\n",
    "# Preprocessing pipelines for both numeric and categorical data\n",
    "numeric_features = X.select_dtypes(include=['int64', 'float64']).columns\n",
    "categorical_features = X.select_dtypes(include=['object']).columns\n",
    "\n",
    "numeric_transformer = Pipeline(steps=[\n",
    "    ('imputer', SimpleImputer(strategy='median')),\n",
    "    ('scaler', StandardScaler())\n",
    "])\n",
    "\n",
    "categorical_transformer = Pipeline(steps=[\n",
    "    ('imputer', SimpleImputer(strategy='constant', fill_value='missing')),\n",
    "    ('onehot', OneHotEncoder(handle_unknown='ignore'))\n",
    "])\n",
    "\n",
    "preprocessor = ColumnTransformer(\n",
    "    transformers=[\n",
    "        ('num', numeric_transformer, numeric_features),\n",
    "        ('cat', categorical_transformer, categorical_features)\n",
    "    ])\n",
    "\n",
    "# Creating a RandomForestRegressor model within a pipeline\n",
    "random_forest_model = Pipeline(steps=[\n",
    "    ('preprocessor', preprocessor),\n",
    "    ('regressor', RandomForestRegressor(random_state=42))\n",
    "])\n",
    "\n",
    "# Define a grid of hyperparameters to search\n",
    "param_grid = {\n",
    "    'regressor__n_estimators': [100, 200, 300],\n",
    "    'regressor__max_depth': [10, 20, None],\n",
    "    'regressor__min_samples_split': [2, 5, 10],\n",
    "    'regressor__min_samples_leaf': [1, 2, 4]\n",
    "}\n",
    "\n",
    "# Create a GridSearchCV object\n",
    "grid_search = GridSearchCV(estimator=random_forest_model, \n",
    "                           param_grid=param_grid, \n",
    "                           cv=3,  # Number of folds in cross-validation\n",
    "                           n_jobs=-1,  # Use all available cores\n",
    "                           scoring='neg_mean_squared_error',  # MSE as the scoring metric\n",
    "                           verbose=2)\n",
    "\n",
    "# Fit the GridSearchCV object to the training data\n",
    "grid_search.fit(X_train, y_train)\n",
    "\n",
    "# Get the best parameters and the corresponding best score\n",
    "best_params = grid_search.best_params_\n",
    "best_score = -grid_search.best_score_  # Negate to get the positive MSE\n",
    "\n",
    "# Output the best parameters and best score from grid search\n",
    "print(f\"Best parameters: {best_params}\")\n",
    "print(f\"Best score (MSE): {best_score}\")\n",
    "\n",
    "# Making predictions on the test data using the best model\n",
    "y_pred_rf = grid_search.predict(X_test)\n",
    "\n",
    "# Transforming predictions back to the original scale\n",
    "y_pred_rf = np.expm1(y_pred_rf)\n",
    "y_test_original = np.expm1(y_test)\n",
    "\n",
    "# Evaluating the model with the best estimator from GridSearchCV\n",
    "mse_rf = mean_squared_error(y_test_original, y_pred_rf)\n",
    "r2_rf = r2_score(y_test_original, y_pred_rf)\n",
    "\n",
    "# Output the performance metrics for the model with the best found hyperparameters\n",
    "print(f\"Random Forest Mean Squared Error: {mse_rf}\")\n",
    "print(f\"Random Forest R^2 Score: {r2_rf}\")\n",
    "\n",
    "# Output the training time\n",
    "#end_time = time.time()\n",
    "#training_time = end_time - start_time\n",
    "#print(f\"Training and hyperparameter tuning took {training_time} seconds.\")"
   ]
  },
  {
   "cell_type": "code",
   "execution_count": 62,
   "id": "01a7256d",
   "metadata": {},
   "outputs": [
    {
     "name": "stdout",
     "output_type": "stream",
     "text": [
      "Validation Mean Squared Error: 0.10862676160509589\n",
      "Validation R^2 Score: 0.8083526019511607\n",
      "Test Mean Squared Error: 0.11189188406189941\n",
      "Test R^2 Score: 0.7958324163357612\n"
     ]
    }
   ],
   "source": [
    "import pandas as pd\n",
    "import numpy as np\n",
    "from sklearn.ensemble import RandomForestRegressor\n",
    "from sklearn.model_selection import train_test_split\n",
    "from sklearn.metrics import mean_squared_error, r2_score\n",
    "from sklearn.preprocessing import StandardScaler, OneHotEncoder\n",
    "from sklearn.compose import ColumnTransformer\n",
    "from sklearn.pipeline import Pipeline\n",
    "from sklearn.impute import SimpleImputer\n",
    "\n",
    "# Load your data\n",
    "df = pd.read_csv('house_dataset.csv')  # Replace with the correct path\n",
    "\n",
    "# Handling Outliers in 'SQUARE_FT'\n",
    "Q1 = df['SQUARE_FT'].quantile(0.25)\n",
    "Q3 = df['SQUARE_FT'].quantile(0.75)\n",
    "IQR = Q3 - Q1\n",
    "lower_bound = Q1 - 1.5 * IQR\n",
    "upper_bound = Q3 + 1.5 * IQR\n",
    "df_filtered = df[(df['SQUARE_FT'] >= lower_bound) & (df['SQUARE_FT'] <= upper_bound)].copy()\n",
    "\n",
    "# Transforming the Target Variable\n",
    "df_filtered['TARGET(PRICE_IN_LACS)_LOG'] = np.log1p(df_filtered['TARGET(PRICE_IN_LACS)'])\n",
    "\n",
    "# Preparing the data for modeling\n",
    "X = df_filtered.drop(['TARGET(PRICE_IN_LACS)', 'TARGET(PRICE_IN_LACS)_LOG'], axis=1)\n",
    "y = df_filtered['TARGET(PRICE_IN_LACS)_LOG']\n",
    "\n",
    "# Encoding categorical features and splitting the data\n",
    "X_train, X_temp, y_train, y_temp = train_test_split(X, y, test_size=0.4, random_state=42)\n",
    "X_val, X_test, y_val, y_test = train_test_split(X_temp, y_temp, test_size=0.5, random_state=42)\n",
    "\n",
    "# Preprocessing pipelines for both numeric and categorical data\n",
    "numeric_features = X_train.select_dtypes(include=['int64', 'float64']).columns\n",
    "categorical_features = X_train.select_dtypes(include=['object']).columns\n",
    "\n",
    "numeric_transformer = Pipeline(steps=[\n",
    "    ('imputer', SimpleImputer(strategy='median')),\n",
    "    ('scaler', StandardScaler())\n",
    "])\n",
    "\n",
    "categorical_transformer = Pipeline(steps=[\n",
    "    ('imputer', SimpleImputer(strategy='constant', fill_value='missing')),\n",
    "    ('onehot', OneHotEncoder(handle_unknown='ignore'))\n",
    "])\n",
    "\n",
    "preprocessor = ColumnTransformer(\n",
    "    transformers=[\n",
    "        ('num', numeric_transformer, numeric_features),\n",
    "        ('cat', categorical_transformer, categorical_features)\n",
    "    ])\n",
    "\n",
    "# Creating a RandomForestRegressor model within a pipeline\n",
    "model = Pipeline(steps=[\n",
    "    ('preprocessor', preprocessor),\n",
    "    ('regressor', RandomForestRegressor(random_state=42))\n",
    "])\n",
    "\n",
    "# Train the model on the training set\n",
    "model.fit(X_train, y_train)\n",
    "\n",
    "# Evaluate the model on the validation set\n",
    "y_pred_val = model.predict(X_val)\n",
    "mse_val = mean_squared_error(y_val, y_pred_val)\n",
    "r2_val = r2_score(y_val, y_pred_val)\n",
    "\n",
    "print(f\"Validation Mean Squared Error: {mse_val}\")\n",
    "print(f\"Validation R^2 Score: {r2_val}\")\n",
    "\n",
    "# [You can then finalize the model based on these results and eventually evaluate it on the test set]\n",
    "# Evaluate the model on the test set\n",
    "y_pred_test = model.predict(X_test)\n",
    "test_mse = mean_squared_error(y_test, y_pred_test)\n",
    "test_r2 = r2_score(y_test, y_pred_test)\n",
    "\n",
    "print(f\"Test Mean Squared Error: {test_mse}\")\n",
    "print(f\"Test R^2 Score: {test_r2}\")"
   ]
  },
  {
   "cell_type": "code",
   "execution_count": null,
   "id": "190b1b5e",
   "metadata": {},
   "outputs": [],
   "source": []
  }
 ],
 "metadata": {
  "kernelspec": {
   "display_name": "Python 3 (ipykernel)",
   "language": "python",
   "name": "python3"
  },
  "language_info": {
   "codemirror_mode": {
    "name": "ipython",
    "version": 3
   },
   "file_extension": ".py",
   "mimetype": "text/x-python",
   "name": "python",
   "nbconvert_exporter": "python",
   "pygments_lexer": "ipython3",
   "version": "3.11.4"
  }
 },
 "nbformat": 4,
 "nbformat_minor": 5
}
